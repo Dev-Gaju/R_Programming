{
 "cells": [
  {
   "cell_type": "code",
   "execution_count": 3,
   "id": "victorian-column",
   "metadata": {},
   "outputs": [],
   "source": [
    "#R Index start always 1 \n",
    "# in vector always same type in a single vector(not like character with number)\n",
    "# A single number also be stored as vector- means everything is vector.27"
   ]
  },
  {
   "cell_type": "markdown",
   "id": "tribal-welsh",
   "metadata": {},
   "source": [
    "#### Vector"
   ]
  },
  {
   "cell_type": "code",
   "execution_count": 3,
   "id": "earned-driving",
   "metadata": {},
   "outputs": [],
   "source": [
    "FirstVector <- c(21,23,45,66,43,17)   #vector define as"
   ]
  },
  {
   "cell_type": "code",
   "execution_count": 4,
   "id": "lonely-reform",
   "metadata": {},
   "outputs": [
    {
     "data": {
      "text/html": [
       "<ol class=list-inline>\n",
       "\t<li>21</li>\n",
       "\t<li>66</li>\n",
       "</ol>\n"
      ],
      "text/latex": [
       "\\begin{enumerate*}\n",
       "\\item 21\n",
       "\\item 66\n",
       "\\end{enumerate*}\n"
      ],
      "text/markdown": [
       "1. 21\n",
       "2. 66\n",
       "\n",
       "\n"
      ],
      "text/plain": [
       "[1] 21 66"
      ]
     },
     "metadata": {},
     "output_type": "display_data"
    }
   ],
   "source": [
    "FirstVector[c(1,4)]    # access multiple value at a time"
   ]
  },
  {
   "cell_type": "code",
   "execution_count": 6,
   "id": "proprietary-possible",
   "metadata": {},
   "outputs": [
    {
     "data": {
      "text/html": [
       "TRUE"
      ],
      "text/latex": [
       "TRUE"
      ],
      "text/markdown": [
       "TRUE"
      ],
      "text/plain": [
       "[1] TRUE"
      ]
     },
     "metadata": {},
     "output_type": "display_data"
    }
   ],
   "source": [
    "is.numeric(FirstVector)"
   ]
  },
  {
   "cell_type": "code",
   "execution_count": 8,
   "id": "quick-potter",
   "metadata": {},
   "outputs": [
    {
     "data": {
      "text/html": [
       "FALSE"
      ],
      "text/latex": [
       "FALSE"
      ],
      "text/markdown": [
       "FALSE"
      ],
      "text/plain": [
       "[1] FALSE"
      ]
     },
     "metadata": {},
     "output_type": "display_data"
    },
    {
     "data": {
      "text/html": [
       "TRUE"
      ],
      "text/latex": [
       "TRUE"
      ],
      "text/markdown": [
       "TRUE"
      ],
      "text/plain": [
       "[1] TRUE"
      ]
     },
     "metadata": {},
     "output_type": "display_data"
    }
   ],
   "source": [
    "is.integer(FirstVector)   #because L  mising\n",
    "is.double(FirstVector)"
   ]
  },
  {
   "cell_type": "code",
   "execution_count": 11,
   "id": "variable-durham",
   "metadata": {},
   "outputs": [],
   "source": [
    "SecodVector <- c(21L,23L,45L,66L,43L,17L) "
   ]
  },
  {
   "cell_type": "code",
   "execution_count": 13,
   "id": "limiting-silicon",
   "metadata": {},
   "outputs": [
    {
     "data": {
      "text/html": [
       "TRUE"
      ],
      "text/latex": [
       "TRUE"
      ],
      "text/markdown": [
       "TRUE"
      ],
      "text/plain": [
       "[1] TRUE"
      ]
     },
     "metadata": {},
     "output_type": "display_data"
    },
    {
     "data": {
      "text/html": [
       "TRUE"
      ],
      "text/latex": [
       "TRUE"
      ],
      "text/markdown": [
       "TRUE"
      ],
      "text/plain": [
       "[1] TRUE"
      ]
     },
     "metadata": {},
     "output_type": "display_data"
    }
   ],
   "source": [
    "is.numeric(SecodVector)\n",
    "is.integer(SecodVector)"
   ]
  },
  {
   "cell_type": "markdown",
   "id": "stretch-latvia",
   "metadata": {},
   "source": [
    "#### sequence "
   ]
  },
  {
   "cell_type": "code",
   "execution_count": 16,
   "id": "brutal-workplace",
   "metadata": {},
   "outputs": [
    {
     "data": {
      "text/html": [
       "<ol class=list-inline>\n",
       "\t<li>1</li>\n",
       "\t<li>2</li>\n",
       "\t<li>3</li>\n",
       "\t<li>4</li>\n",
       "\t<li>5</li>\n",
       "\t<li>6</li>\n",
       "\t<li>7</li>\n",
       "\t<li>8</li>\n",
       "\t<li>9</li>\n",
       "\t<li>10</li>\n",
       "\t<li>11</li>\n",
       "\t<li>12</li>\n",
       "\t<li>13</li>\n",
       "\t<li>14</li>\n",
       "\t<li>15</li>\n",
       "</ol>\n"
      ],
      "text/latex": [
       "\\begin{enumerate*}\n",
       "\\item 1\n",
       "\\item 2\n",
       "\\item 3\n",
       "\\item 4\n",
       "\\item 5\n",
       "\\item 6\n",
       "\\item 7\n",
       "\\item 8\n",
       "\\item 9\n",
       "\\item 10\n",
       "\\item 11\n",
       "\\item 12\n",
       "\\item 13\n",
       "\\item 14\n",
       "\\item 15\n",
       "\\end{enumerate*}\n"
      ],
      "text/markdown": [
       "1. 1\n",
       "2. 2\n",
       "3. 3\n",
       "4. 4\n",
       "5. 5\n",
       "6. 6\n",
       "7. 7\n",
       "8. 8\n",
       "9. 9\n",
       "10. 10\n",
       "11. 11\n",
       "12. 12\n",
       "13. 13\n",
       "14. 14\n",
       "15. 15\n",
       "\n",
       "\n"
      ],
      "text/plain": [
       " [1]  1  2  3  4  5  6  7  8  9 10 11 12 13 14 15"
      ]
     },
     "metadata": {},
     "output_type": "display_data"
    }
   ],
   "source": [
    " seq(1,15)  #create number from 1 to 15  #function used comma"
   ]
  },
  {
   "cell_type": "code",
   "execution_count": 17,
   "id": "martial-composite",
   "metadata": {},
   "outputs": [
    {
     "data": {
      "text/html": [
       "<ol class=list-inline>\n",
       "\t<li>1</li>\n",
       "\t<li>2</li>\n",
       "\t<li>3</li>\n",
       "\t<li>4</li>\n",
       "\t<li>5</li>\n",
       "\t<li>6</li>\n",
       "\t<li>7</li>\n",
       "\t<li>8</li>\n",
       "\t<li>9</li>\n",
       "\t<li>10</li>\n",
       "\t<li>11</li>\n",
       "\t<li>12</li>\n",
       "\t<li>13</li>\n",
       "\t<li>14</li>\n",
       "\t<li>15</li>\n",
       "</ol>\n"
      ],
      "text/latex": [
       "\\begin{enumerate*}\n",
       "\\item 1\n",
       "\\item 2\n",
       "\\item 3\n",
       "\\item 4\n",
       "\\item 5\n",
       "\\item 6\n",
       "\\item 7\n",
       "\\item 8\n",
       "\\item 9\n",
       "\\item 10\n",
       "\\item 11\n",
       "\\item 12\n",
       "\\item 13\n",
       "\\item 14\n",
       "\\item 15\n",
       "\\end{enumerate*}\n"
      ],
      "text/markdown": [
       "1. 1\n",
       "2. 2\n",
       "3. 3\n",
       "4. 4\n",
       "5. 5\n",
       "6. 6\n",
       "7. 7\n",
       "8. 8\n",
       "9. 9\n",
       "10. 10\n",
       "11. 11\n",
       "12. 12\n",
       "13. 13\n",
       "14. 14\n",
       "15. 15\n",
       "\n",
       "\n"
      ],
      "text/plain": [
       " [1]  1  2  3  4  5  6  7  8  9 10 11 12 13 14 15"
      ]
     },
     "metadata": {},
     "output_type": "display_data"
    }
   ],
   "source": [
    "1:15  #first way used colon"
   ]
  },
  {
   "cell_type": "code",
   "execution_count": 18,
   "id": "attended-chapter",
   "metadata": {},
   "outputs": [
    {
     "data": {
      "text/html": [
       "<ol class=list-inline>\n",
       "\t<li>1</li>\n",
       "\t<li>3</li>\n",
       "\t<li>5</li>\n",
       "\t<li>7</li>\n",
       "\t<li>9</li>\n",
       "</ol>\n"
      ],
      "text/latex": [
       "\\begin{enumerate*}\n",
       "\\item 1\n",
       "\\item 3\n",
       "\\item 5\n",
       "\\item 7\n",
       "\\item 9\n",
       "\\end{enumerate*}\n"
      ],
      "text/markdown": [
       "1. 1\n",
       "2. 3\n",
       "3. 5\n",
       "4. 7\n",
       "5. 9\n",
       "\n",
       "\n"
      ],
      "text/plain": [
       "[1] 1 3 5 7 9"
      ]
     },
     "metadata": {},
     "output_type": "display_data"
    }
   ],
   "source": [
    "seq(1,10, 2)  #In sqnce can add step where not possible in colon"
   ]
  },
  {
   "cell_type": "code",
   "execution_count": 70,
   "id": "parental-terrorist",
   "metadata": {},
   "outputs": [
    {
     "data": {
      "text/html": [
       "<ol class=list-inline>\n",
       "\t<li>10</li>\n",
       "\t<li>10.1010101010101</li>\n",
       "\t<li>10.2020202020202</li>\n",
       "\t<li>10.3030303030303</li>\n",
       "\t<li>10.4040404040404</li>\n",
       "\t<li>10.5050505050505</li>\n",
       "\t<li>10.6060606060606</li>\n",
       "\t<li>10.7070707070707</li>\n",
       "\t<li>10.8080808080808</li>\n",
       "\t<li>10.9090909090909</li>\n",
       "\t<li>11.010101010101</li>\n",
       "\t<li>11.1111111111111</li>\n",
       "\t<li>11.2121212121212</li>\n",
       "\t<li>11.3131313131313</li>\n",
       "\t<li>11.4141414141414</li>\n",
       "\t<li>11.5151515151515</li>\n",
       "\t<li>11.6161616161616</li>\n",
       "\t<li>11.7171717171717</li>\n",
       "\t<li>11.8181818181818</li>\n",
       "\t<li>11.9191919191919</li>\n",
       "\t<li>12.020202020202</li>\n",
       "\t<li>12.1212121212121</li>\n",
       "\t<li>12.2222222222222</li>\n",
       "\t<li>12.3232323232323</li>\n",
       "\t<li>12.4242424242424</li>\n",
       "\t<li>12.5252525252525</li>\n",
       "\t<li>12.6262626262626</li>\n",
       "\t<li>12.7272727272727</li>\n",
       "\t<li>12.8282828282828</li>\n",
       "\t<li>12.9292929292929</li>\n",
       "\t<li>13.030303030303</li>\n",
       "\t<li>13.1313131313131</li>\n",
       "\t<li>13.2323232323232</li>\n",
       "\t<li>13.3333333333333</li>\n",
       "\t<li>13.4343434343434</li>\n",
       "\t<li>13.5353535353535</li>\n",
       "\t<li>13.6363636363636</li>\n",
       "\t<li>13.7373737373737</li>\n",
       "\t<li>13.8383838383838</li>\n",
       "\t<li>13.9393939393939</li>\n",
       "\t<li>14.040404040404</li>\n",
       "\t<li>14.1414141414141</li>\n",
       "\t<li>14.2424242424242</li>\n",
       "\t<li>14.3434343434343</li>\n",
       "\t<li>14.4444444444444</li>\n",
       "\t<li>14.5454545454545</li>\n",
       "\t<li>14.6464646464646</li>\n",
       "\t<li>14.7474747474747</li>\n",
       "\t<li>14.8484848484848</li>\n",
       "\t<li>14.9494949494949</li>\n",
       "\t<li>15.0505050505051</li>\n",
       "\t<li>15.1515151515152</li>\n",
       "\t<li>15.2525252525253</li>\n",
       "\t<li>15.3535353535354</li>\n",
       "\t<li>15.4545454545455</li>\n",
       "\t<li>15.5555555555556</li>\n",
       "\t<li>15.6565656565657</li>\n",
       "\t<li>15.7575757575758</li>\n",
       "\t<li>15.8585858585859</li>\n",
       "\t<li>15.959595959596</li>\n",
       "\t<li>16.0606060606061</li>\n",
       "\t<li>16.1616161616162</li>\n",
       "\t<li>16.2626262626263</li>\n",
       "\t<li>16.3636363636364</li>\n",
       "\t<li>16.4646464646465</li>\n",
       "\t<li>16.5656565656566</li>\n",
       "\t<li>16.6666666666667</li>\n",
       "\t<li>16.7676767676768</li>\n",
       "\t<li>16.8686868686869</li>\n",
       "\t<li>16.969696969697</li>\n",
       "\t<li>17.0707070707071</li>\n",
       "\t<li>17.1717171717172</li>\n",
       "\t<li>17.2727272727273</li>\n",
       "\t<li>17.3737373737374</li>\n",
       "\t<li>17.4747474747475</li>\n",
       "\t<li>17.5757575757576</li>\n",
       "\t<li>17.6767676767677</li>\n",
       "\t<li>17.7777777777778</li>\n",
       "\t<li>17.8787878787879</li>\n",
       "\t<li>17.979797979798</li>\n",
       "\t<li>18.0808080808081</li>\n",
       "\t<li>18.1818181818182</li>\n",
       "\t<li>18.2828282828283</li>\n",
       "\t<li>18.3838383838384</li>\n",
       "\t<li>18.4848484848485</li>\n",
       "\t<li>18.5858585858586</li>\n",
       "\t<li>18.6868686868687</li>\n",
       "\t<li>18.7878787878788</li>\n",
       "\t<li>18.8888888888889</li>\n",
       "\t<li>18.989898989899</li>\n",
       "\t<li>19.0909090909091</li>\n",
       "\t<li>19.1919191919192</li>\n",
       "\t<li>19.2929292929293</li>\n",
       "\t<li>19.3939393939394</li>\n",
       "\t<li>19.4949494949495</li>\n",
       "\t<li>19.5959595959596</li>\n",
       "\t<li>19.6969696969697</li>\n",
       "\t<li>19.7979797979798</li>\n",
       "\t<li>19.8989898989899</li>\n",
       "\t<li>20</li>\n",
       "</ol>\n"
      ],
      "text/latex": [
       "\\begin{enumerate*}\n",
       "\\item 10\n",
       "\\item 10.1010101010101\n",
       "\\item 10.2020202020202\n",
       "\\item 10.3030303030303\n",
       "\\item 10.4040404040404\n",
       "\\item 10.5050505050505\n",
       "\\item 10.6060606060606\n",
       "\\item 10.7070707070707\n",
       "\\item 10.8080808080808\n",
       "\\item 10.9090909090909\n",
       "\\item 11.010101010101\n",
       "\\item 11.1111111111111\n",
       "\\item 11.2121212121212\n",
       "\\item 11.3131313131313\n",
       "\\item 11.4141414141414\n",
       "\\item 11.5151515151515\n",
       "\\item 11.6161616161616\n",
       "\\item 11.7171717171717\n",
       "\\item 11.8181818181818\n",
       "\\item 11.9191919191919\n",
       "\\item 12.020202020202\n",
       "\\item 12.1212121212121\n",
       "\\item 12.2222222222222\n",
       "\\item 12.3232323232323\n",
       "\\item 12.4242424242424\n",
       "\\item 12.5252525252525\n",
       "\\item 12.6262626262626\n",
       "\\item 12.7272727272727\n",
       "\\item 12.8282828282828\n",
       "\\item 12.9292929292929\n",
       "\\item 13.030303030303\n",
       "\\item 13.1313131313131\n",
       "\\item 13.2323232323232\n",
       "\\item 13.3333333333333\n",
       "\\item 13.4343434343434\n",
       "\\item 13.5353535353535\n",
       "\\item 13.6363636363636\n",
       "\\item 13.7373737373737\n",
       "\\item 13.8383838383838\n",
       "\\item 13.9393939393939\n",
       "\\item 14.040404040404\n",
       "\\item 14.1414141414141\n",
       "\\item 14.2424242424242\n",
       "\\item 14.3434343434343\n",
       "\\item 14.4444444444444\n",
       "\\item 14.5454545454545\n",
       "\\item 14.6464646464646\n",
       "\\item 14.7474747474747\n",
       "\\item 14.8484848484848\n",
       "\\item 14.9494949494949\n",
       "\\item 15.0505050505051\n",
       "\\item 15.1515151515152\n",
       "\\item 15.2525252525253\n",
       "\\item 15.3535353535354\n",
       "\\item 15.4545454545455\n",
       "\\item 15.5555555555556\n",
       "\\item 15.6565656565657\n",
       "\\item 15.7575757575758\n",
       "\\item 15.8585858585859\n",
       "\\item 15.959595959596\n",
       "\\item 16.0606060606061\n",
       "\\item 16.1616161616162\n",
       "\\item 16.2626262626263\n",
       "\\item 16.3636363636364\n",
       "\\item 16.4646464646465\n",
       "\\item 16.5656565656566\n",
       "\\item 16.6666666666667\n",
       "\\item 16.7676767676768\n",
       "\\item 16.8686868686869\n",
       "\\item 16.969696969697\n",
       "\\item 17.0707070707071\n",
       "\\item 17.1717171717172\n",
       "\\item 17.2727272727273\n",
       "\\item 17.3737373737374\n",
       "\\item 17.4747474747475\n",
       "\\item 17.5757575757576\n",
       "\\item 17.6767676767677\n",
       "\\item 17.7777777777778\n",
       "\\item 17.8787878787879\n",
       "\\item 17.979797979798\n",
       "\\item 18.0808080808081\n",
       "\\item 18.1818181818182\n",
       "\\item 18.2828282828283\n",
       "\\item 18.3838383838384\n",
       "\\item 18.4848484848485\n",
       "\\item 18.5858585858586\n",
       "\\item 18.6868686868687\n",
       "\\item 18.7878787878788\n",
       "\\item 18.8888888888889\n",
       "\\item 18.989898989899\n",
       "\\item 19.0909090909091\n",
       "\\item 19.1919191919192\n",
       "\\item 19.2929292929293\n",
       "\\item 19.3939393939394\n",
       "\\item 19.4949494949495\n",
       "\\item 19.5959595959596\n",
       "\\item 19.6969696969697\n",
       "\\item 19.7979797979798\n",
       "\\item 19.8989898989899\n",
       "\\item 20\n",
       "\\end{enumerate*}\n"
      ],
      "text/markdown": [
       "1. 10\n",
       "2. 10.1010101010101\n",
       "3. 10.2020202020202\n",
       "4. 10.3030303030303\n",
       "5. 10.4040404040404\n",
       "6. 10.5050505050505\n",
       "7. 10.6060606060606\n",
       "8. 10.7070707070707\n",
       "9. 10.8080808080808\n",
       "10. 10.9090909090909\n",
       "11. 11.010101010101\n",
       "12. 11.1111111111111\n",
       "13. 11.2121212121212\n",
       "14. 11.3131313131313\n",
       "15. 11.4141414141414\n",
       "16. 11.5151515151515\n",
       "17. 11.6161616161616\n",
       "18. 11.7171717171717\n",
       "19. 11.8181818181818\n",
       "20. 11.9191919191919\n",
       "21. 12.020202020202\n",
       "22. 12.1212121212121\n",
       "23. 12.2222222222222\n",
       "24. 12.3232323232323\n",
       "25. 12.4242424242424\n",
       "26. 12.5252525252525\n",
       "27. 12.6262626262626\n",
       "28. 12.7272727272727\n",
       "29. 12.8282828282828\n",
       "30. 12.9292929292929\n",
       "31. 13.030303030303\n",
       "32. 13.1313131313131\n",
       "33. 13.2323232323232\n",
       "34. 13.3333333333333\n",
       "35. 13.4343434343434\n",
       "36. 13.5353535353535\n",
       "37. 13.6363636363636\n",
       "38. 13.7373737373737\n",
       "39. 13.8383838383838\n",
       "40. 13.9393939393939\n",
       "41. 14.040404040404\n",
       "42. 14.1414141414141\n",
       "43. 14.2424242424242\n",
       "44. 14.3434343434343\n",
       "45. 14.4444444444444\n",
       "46. 14.5454545454545\n",
       "47. 14.6464646464646\n",
       "48. 14.7474747474747\n",
       "49. 14.8484848484848\n",
       "50. 14.9494949494949\n",
       "51. 15.0505050505051\n",
       "52. 15.1515151515152\n",
       "53. 15.2525252525253\n",
       "54. 15.3535353535354\n",
       "55. 15.4545454545455\n",
       "56. 15.5555555555556\n",
       "57. 15.6565656565657\n",
       "58. 15.7575757575758\n",
       "59. 15.8585858585859\n",
       "60. 15.959595959596\n",
       "61. 16.0606060606061\n",
       "62. 16.1616161616162\n",
       "63. 16.2626262626263\n",
       "64. 16.3636363636364\n",
       "65. 16.4646464646465\n",
       "66. 16.5656565656566\n",
       "67. 16.6666666666667\n",
       "68. 16.7676767676768\n",
       "69. 16.8686868686869\n",
       "70. 16.969696969697\n",
       "71. 17.0707070707071\n",
       "72. 17.1717171717172\n",
       "73. 17.2727272727273\n",
       "74. 17.3737373737374\n",
       "75. 17.4747474747475\n",
       "76. 17.5757575757576\n",
       "77. 17.6767676767677\n",
       "78. 17.7777777777778\n",
       "79. 17.8787878787879\n",
       "80. 17.979797979798\n",
       "81. 18.0808080808081\n",
       "82. 18.1818181818182\n",
       "83. 18.2828282828283\n",
       "84. 18.3838383838384\n",
       "85. 18.4848484848485\n",
       "86. 18.5858585858586\n",
       "87. 18.6868686868687\n",
       "88. 18.7878787878788\n",
       "89. 18.8888888888889\n",
       "90. 18.989898989899\n",
       "91. 19.0909090909091\n",
       "92. 19.1919191919192\n",
       "93. 19.2929292929293\n",
       "94. 19.3939393939394\n",
       "95. 19.4949494949495\n",
       "96. 19.5959595959596\n",
       "97. 19.6969696969697\n",
       "98. 19.7979797979798\n",
       "99. 19.8989898989899\n",
       "100. 20\n",
       "\n",
       "\n"
      ],
      "text/plain": [
       "  [1] 10.00000 10.10101 10.20202 10.30303 10.40404 10.50505 10.60606 10.70707\n",
       "  [9] 10.80808 10.90909 11.01010 11.11111 11.21212 11.31313 11.41414 11.51515\n",
       " [17] 11.61616 11.71717 11.81818 11.91919 12.02020 12.12121 12.22222 12.32323\n",
       " [25] 12.42424 12.52525 12.62626 12.72727 12.82828 12.92929 13.03030 13.13131\n",
       " [33] 13.23232 13.33333 13.43434 13.53535 13.63636 13.73737 13.83838 13.93939\n",
       " [41] 14.04040 14.14141 14.24242 14.34343 14.44444 14.54545 14.64646 14.74747\n",
       " [49] 14.84848 14.94949 15.05051 15.15152 15.25253 15.35354 15.45455 15.55556\n",
       " [57] 15.65657 15.75758 15.85859 15.95960 16.06061 16.16162 16.26263 16.36364\n",
       " [65] 16.46465 16.56566 16.66667 16.76768 16.86869 16.96970 17.07071 17.17172\n",
       " [73] 17.27273 17.37374 17.47475 17.57576 17.67677 17.77778 17.87879 17.97980\n",
       " [81] 18.08081 18.18182 18.28283 18.38384 18.48485 18.58586 18.68687 18.78788\n",
       " [89] 18.88889 18.98990 19.09091 19.19192 19.29293 19.39394 19.49495 19.59596\n",
       " [97] 19.69697 19.79798 19.89899 20.00000"
      ]
     },
     "metadata": {},
     "output_type": "display_data"
    }
   ],
   "source": [
    "seq(from=10, to =20, length.out=100)   #when need 100 number"
   ]
  },
  {
   "cell_type": "markdown",
   "id": "dangerous-bumper",
   "metadata": {},
   "source": [
    "#### Replicate"
   ]
  },
  {
   "cell_type": "code",
   "execution_count": 20,
   "id": "ahead-shark",
   "metadata": {},
   "outputs": [
    {
     "data": {
      "text/html": [
       "<ol class=list-inline>\n",
       "\t<li>2</li>\n",
       "\t<li>2</li>\n",
       "\t<li>2</li>\n",
       "\t<li>2</li>\n",
       "\t<li>2</li>\n",
       "\t<li>2</li>\n",
       "\t<li>2</li>\n",
       "\t<li>2</li>\n",
       "\t<li>2</li>\n",
       "\t<li>2</li>\n",
       "</ol>\n"
      ],
      "text/latex": [
       "\\begin{enumerate*}\n",
       "\\item 2\n",
       "\\item 2\n",
       "\\item 2\n",
       "\\item 2\n",
       "\\item 2\n",
       "\\item 2\n",
       "\\item 2\n",
       "\\item 2\n",
       "\\item 2\n",
       "\\item 2\n",
       "\\end{enumerate*}\n"
      ],
      "text/markdown": [
       "1. 2\n",
       "2. 2\n",
       "3. 2\n",
       "4. 2\n",
       "5. 2\n",
       "6. 2\n",
       "7. 2\n",
       "8. 2\n",
       "9. 2\n",
       "10. 2\n",
       "\n",
       "\n"
      ],
      "text/plain": [
       " [1] 2 2 2 2 2 2 2 2 2 2"
      ]
     },
     "metadata": {},
     "output_type": "display_data"
    }
   ],
   "source": [
    " rep(2, 10) #its generaly used to replicate the number "
   ]
  },
  {
   "cell_type": "code",
   "execution_count": 23,
   "id": "breathing-catering",
   "metadata": {},
   "outputs": [
    {
     "data": {
      "text/html": [
       "<ol class=list-inline>\n",
       "\t<li>'a'</li>\n",
       "\t<li>'a'</li>\n",
       "\t<li>'a'</li>\n",
       "\t<li>'a'</li>\n",
       "\t<li>'a'</li>\n",
       "\t<li>'a'</li>\n",
       "\t<li>'a'</li>\n",
       "\t<li>'a'</li>\n",
       "\t<li>'a'</li>\n",
       "\t<li>'a'</li>\n",
       "</ol>\n"
      ],
      "text/latex": [
       "\\begin{enumerate*}\n",
       "\\item 'a'\n",
       "\\item 'a'\n",
       "\\item 'a'\n",
       "\\item 'a'\n",
       "\\item 'a'\n",
       "\\item 'a'\n",
       "\\item 'a'\n",
       "\\item 'a'\n",
       "\\item 'a'\n",
       "\\item 'a'\n",
       "\\end{enumerate*}\n"
      ],
      "text/markdown": [
       "1. 'a'\n",
       "2. 'a'\n",
       "3. 'a'\n",
       "4. 'a'\n",
       "5. 'a'\n",
       "6. 'a'\n",
       "7. 'a'\n",
       "8. 'a'\n",
       "9. 'a'\n",
       "10. 'a'\n",
       "\n",
       "\n"
      ],
      "text/plain": [
       " [1] \"a\" \"a\" \"a\" \"a\" \"a\" \"a\" \"a\" \"a\" \"a\" \"a\""
      ]
     },
     "metadata": {},
     "output_type": "display_data"
    }
   ],
   "source": [
    "rep(\"a\", 10)"
   ]
  },
  {
   "cell_type": "code",
   "execution_count": 25,
   "id": "unlikely-wisdom",
   "metadata": {},
   "outputs": [
    {
     "data": {
      "text/html": [
       "<ol class=list-inline>\n",
       "\t<li>23</li>\n",
       "\t<li>43</li>\n",
       "\t<li>54</li>\n",
       "\t<li>23</li>\n",
       "\t<li>43</li>\n",
       "\t<li>54</li>\n",
       "\t<li>23</li>\n",
       "\t<li>43</li>\n",
       "\t<li>54</li>\n",
       "\t<li>23</li>\n",
       "\t<li>43</li>\n",
       "\t<li>54</li>\n",
       "\t<li>23</li>\n",
       "\t<li>43</li>\n",
       "\t<li>54</li>\n",
       "\t<li>23</li>\n",
       "\t<li>43</li>\n",
       "\t<li>54</li>\n",
       "\t<li>23</li>\n",
       "\t<li>43</li>\n",
       "\t<li>54</li>\n",
       "\t<li>23</li>\n",
       "\t<li>43</li>\n",
       "\t<li>54</li>\n",
       "\t<li>23</li>\n",
       "\t<li>43</li>\n",
       "\t<li>54</li>\n",
       "\t<li>23</li>\n",
       "\t<li>43</li>\n",
       "\t<li>54</li>\n",
       "</ol>\n"
      ],
      "text/latex": [
       "\\begin{enumerate*}\n",
       "\\item 23\n",
       "\\item 43\n",
       "\\item 54\n",
       "\\item 23\n",
       "\\item 43\n",
       "\\item 54\n",
       "\\item 23\n",
       "\\item 43\n",
       "\\item 54\n",
       "\\item 23\n",
       "\\item 43\n",
       "\\item 54\n",
       "\\item 23\n",
       "\\item 43\n",
       "\\item 54\n",
       "\\item 23\n",
       "\\item 43\n",
       "\\item 54\n",
       "\\item 23\n",
       "\\item 43\n",
       "\\item 54\n",
       "\\item 23\n",
       "\\item 43\n",
       "\\item 54\n",
       "\\item 23\n",
       "\\item 43\n",
       "\\item 54\n",
       "\\item 23\n",
       "\\item 43\n",
       "\\item 54\n",
       "\\end{enumerate*}\n"
      ],
      "text/markdown": [
       "1. 23\n",
       "2. 43\n",
       "3. 54\n",
       "4. 23\n",
       "5. 43\n",
       "6. 54\n",
       "7. 23\n",
       "8. 43\n",
       "9. 54\n",
       "10. 23\n",
       "11. 43\n",
       "12. 54\n",
       "13. 23\n",
       "14. 43\n",
       "15. 54\n",
       "16. 23\n",
       "17. 43\n",
       "18. 54\n",
       "19. 23\n",
       "20. 43\n",
       "21. 54\n",
       "22. 23\n",
       "23. 43\n",
       "24. 54\n",
       "25. 23\n",
       "26. 43\n",
       "27. 54\n",
       "28. 23\n",
       "29. 43\n",
       "30. 54\n",
       "\n",
       "\n"
      ],
      "text/plain": [
       " [1] 23 43 54 23 43 54 23 43 54 23 43 54 23 43 54 23 43 54 23 43 54 23 43 54 23\n",
       "[26] 43 54 23 43 54"
      ]
     },
     "metadata": {},
     "output_type": "display_data"
    }
   ],
   "source": [
    "a <-c(23,43,54)\n",
    "rep(a,10)"
   ]
  },
  {
   "cell_type": "code",
   "execution_count": 71,
   "id": "organic-recommendation",
   "metadata": {},
   "outputs": [
    {
     "data": {
      "text/html": [
       "<ol class=list-inline>\n",
       "\t<li>4</li>\n",
       "\t<li>4</li>\n",
       "\t<li>4</li>\n",
       "\t<li>4</li>\n",
       "\t<li>4</li>\n",
       "\t<li>4</li>\n",
       "\t<li>4</li>\n",
       "\t<li>4</li>\n",
       "\t<li>4</li>\n",
       "\t<li>4</li>\n",
       "\t<li>3</li>\n",
       "\t<li>3</li>\n",
       "\t<li>3</li>\n",
       "\t<li>3</li>\n",
       "\t<li>3</li>\n",
       "\t<li>3</li>\n",
       "\t<li>3</li>\n",
       "\t<li>3</li>\n",
       "\t<li>3</li>\n",
       "\t<li>3</li>\n",
       "\t<li>2</li>\n",
       "\t<li>2</li>\n",
       "\t<li>2</li>\n",
       "\t<li>2</li>\n",
       "\t<li>2</li>\n",
       "\t<li>2</li>\n",
       "\t<li>2</li>\n",
       "\t<li>2</li>\n",
       "\t<li>2</li>\n",
       "\t<li>2</li>\n",
       "</ol>\n"
      ],
      "text/latex": [
       "\\begin{enumerate*}\n",
       "\\item 4\n",
       "\\item 4\n",
       "\\item 4\n",
       "\\item 4\n",
       "\\item 4\n",
       "\\item 4\n",
       "\\item 4\n",
       "\\item 4\n",
       "\\item 4\n",
       "\\item 4\n",
       "\\item 3\n",
       "\\item 3\n",
       "\\item 3\n",
       "\\item 3\n",
       "\\item 3\n",
       "\\item 3\n",
       "\\item 3\n",
       "\\item 3\n",
       "\\item 3\n",
       "\\item 3\n",
       "\\item 2\n",
       "\\item 2\n",
       "\\item 2\n",
       "\\item 2\n",
       "\\item 2\n",
       "\\item 2\n",
       "\\item 2\n",
       "\\item 2\n",
       "\\item 2\n",
       "\\item 2\n",
       "\\end{enumerate*}\n"
      ],
      "text/markdown": [
       "1. 4\n",
       "2. 4\n",
       "3. 4\n",
       "4. 4\n",
       "5. 4\n",
       "6. 4\n",
       "7. 4\n",
       "8. 4\n",
       "9. 4\n",
       "10. 4\n",
       "11. 3\n",
       "12. 3\n",
       "13. 3\n",
       "14. 3\n",
       "15. 3\n",
       "16. 3\n",
       "17. 3\n",
       "18. 3\n",
       "19. 3\n",
       "20. 3\n",
       "21. 2\n",
       "22. 2\n",
       "23. 2\n",
       "24. 2\n",
       "25. 2\n",
       "26. 2\n",
       "27. 2\n",
       "28. 2\n",
       "29. 2\n",
       "30. 2\n",
       "\n",
       "\n"
      ],
      "text/plain": [
       " [1] 4 4 4 4 4 4 4 4 4 4 3 3 3 3 3 3 3 3 3 3 2 2 2 2 2 2 2 2 2 2"
      ]
     },
     "metadata": {},
     "output_type": "display_data"
    }
   ],
   "source": [
    "rep(4:2, each=10)   # each of the value replicate 10 times"
   ]
  },
  {
   "cell_type": "markdown",
   "id": "listed-calculator",
   "metadata": {},
   "source": [
    "### Square Brakets"
   ]
  },
  {
   "cell_type": "code",
   "execution_count": 26,
   "id": "hidden-burke",
   "metadata": {},
   "outputs": [],
   "source": [
    "# access single element from a vector \n",
    "\n",
    "a <- c(22,33,55,6,74,53,75,85)"
   ]
  },
  {
   "cell_type": "code",
   "execution_count": 27,
   "id": "earned-turning",
   "metadata": {},
   "outputs": [
    {
     "data": {
      "text/html": [
       "22"
      ],
      "text/latex": [
       "22"
      ],
      "text/markdown": [
       "22"
      ],
      "text/plain": [
       "[1] 22"
      ]
     },
     "metadata": {},
     "output_type": "display_data"
    }
   ],
   "source": [
    "a[1]"
   ]
  },
  {
   "cell_type": "code",
   "execution_count": 28,
   "id": "major-phoenix",
   "metadata": {},
   "outputs": [
    {
     "data": {
      "text/html": [
       "33"
      ],
      "text/latex": [
       "33"
      ],
      "text/markdown": [
       "33"
      ],
      "text/plain": [
       "[1] 33"
      ]
     },
     "metadata": {},
     "output_type": "display_data"
    }
   ],
   "source": [
    "a[2]"
   ]
  },
  {
   "cell_type": "code",
   "execution_count": 30,
   "id": "interracial-railway",
   "metadata": {},
   "outputs": [
    {
     "data": {
      "text/html": [
       "<ol class=list-inline>\n",
       "\t<li>22</li>\n",
       "\t<li>55</li>\n",
       "\t<li>6</li>\n",
       "\t<li>74</li>\n",
       "\t<li>53</li>\n",
       "\t<li>75</li>\n",
       "\t<li>85</li>\n",
       "</ol>\n"
      ],
      "text/latex": [
       "\\begin{enumerate*}\n",
       "\\item 22\n",
       "\\item 55\n",
       "\\item 6\n",
       "\\item 74\n",
       "\\item 53\n",
       "\\item 75\n",
       "\\item 85\n",
       "\\end{enumerate*}\n"
      ],
      "text/markdown": [
       "1. 22\n",
       "2. 55\n",
       "3. 6\n",
       "4. 74\n",
       "5. 53\n",
       "6. 75\n",
       "7. 85\n",
       "\n",
       "\n"
      ],
      "text/plain": [
       "[1] 22 55  6 74 53 75 85"
      ]
     },
     "metadata": {},
     "output_type": "display_data"
    }
   ],
   "source": [
    "a[-2] #just dont want to call second "
   ]
  },
  {
   "cell_type": "code",
   "execution_count": 31,
   "id": "detected-worse",
   "metadata": {},
   "outputs": [
    {
     "data": {
      "text/html": [
       "<ol class=list-inline>\n",
       "\t<li>33</li>\n",
       "\t<li>55</li>\n",
       "</ol>\n"
      ],
      "text/latex": [
       "\\begin{enumerate*}\n",
       "\\item 33\n",
       "\\item 55\n",
       "\\end{enumerate*}\n"
      ],
      "text/markdown": [
       "1. 33\n",
       "2. 55\n",
       "\n",
       "\n"
      ],
      "text/plain": [
       "[1] 33 55"
      ]
     },
     "metadata": {},
     "output_type": "display_data"
    }
   ],
   "source": [
    "a[2:3]"
   ]
  },
  {
   "cell_type": "code",
   "execution_count": 33,
   "id": "orange-curtis",
   "metadata": {},
   "outputs": [
    {
     "data": {
      "text/html": [
       "<ol class=list-inline>\n",
       "\t<li>22</li>\n",
       "\t<li>55</li>\n",
       "\t<li>74</li>\n",
       "</ol>\n"
      ],
      "text/latex": [
       "\\begin{enumerate*}\n",
       "\\item 22\n",
       "\\item 55\n",
       "\\item 74\n",
       "\\end{enumerate*}\n"
      ],
      "text/markdown": [
       "1. 22\n",
       "2. 55\n",
       "3. 74\n",
       "\n",
       "\n"
      ],
      "text/plain": [
       "[1] 22 55 74"
      ]
     },
     "metadata": {},
     "output_type": "display_data"
    }
   ],
   "source": [
    "a[c(1,3,5)]    #combine value"
   ]
  },
  {
   "cell_type": "code",
   "execution_count": 34,
   "id": "frozen-geography",
   "metadata": {},
   "outputs": [
    {
     "data": {
      "text/html": [
       "<ol class=list-inline>\n",
       "\t<li>33</li>\n",
       "\t<li>6</li>\n",
       "\t<li>53</li>\n",
       "\t<li>75</li>\n",
       "\t<li>85</li>\n",
       "</ol>\n"
      ],
      "text/latex": [
       "\\begin{enumerate*}\n",
       "\\item 33\n",
       "\\item 6\n",
       "\\item 53\n",
       "\\item 75\n",
       "\\item 85\n",
       "\\end{enumerate*}\n"
      ],
      "text/markdown": [
       "1. 33\n",
       "2. 6\n",
       "3. 53\n",
       "4. 75\n",
       "5. 85\n",
       "\n",
       "\n"
      ],
      "text/plain": [
       "[1] 33  6 53 75 85"
      ]
     },
     "metadata": {},
     "output_type": "display_data"
    }
   ],
   "source": [
    "a[c(-1,-3,-5)] "
   ]
  },
  {
   "cell_type": "markdown",
   "id": "addressed-mining",
   "metadata": {},
   "source": [
    "##### Again Vector Representation "
   ]
  },
  {
   "cell_type": "code",
   "execution_count": null,
   "id": "alive-evaluation",
   "metadata": {},
   "outputs": [],
   "source": [
    "''' \n",
    "In vector no need to create loop for one vector to other  calculation. DO just normal things and its do the same thing\n",
    "which done by loop in other language.\n",
    "'''"
   ]
  },
  {
   "cell_type": "code",
   "execution_count": 41,
   "id": "opened-square",
   "metadata": {},
   "outputs": [],
   "source": [
    "a <- c(22,33,45,6,7,35,22,32)"
   ]
  },
  {
   "cell_type": "code",
   "execution_count": 42,
   "id": "demanding-surgery",
   "metadata": {},
   "outputs": [],
   "source": [
    "b <- c(25,92,45,12,64,75,12,2)"
   ]
  },
  {
   "cell_type": "code",
   "execution_count": 45,
   "id": "passing-cholesterol",
   "metadata": {},
   "outputs": [
    {
     "data": {
      "text/html": [
       "<ol class=list-inline>\n",
       "\t<li>47</li>\n",
       "\t<li>125</li>\n",
       "\t<li>90</li>\n",
       "\t<li>18</li>\n",
       "\t<li>71</li>\n",
       "\t<li>110</li>\n",
       "\t<li>34</li>\n",
       "\t<li>34</li>\n",
       "</ol>\n"
      ],
      "text/latex": [
       "\\begin{enumerate*}\n",
       "\\item 47\n",
       "\\item 125\n",
       "\\item 90\n",
       "\\item 18\n",
       "\\item 71\n",
       "\\item 110\n",
       "\\item 34\n",
       "\\item 34\n",
       "\\end{enumerate*}\n"
      ],
      "text/markdown": [
       "1. 47\n",
       "2. 125\n",
       "3. 90\n",
       "4. 18\n",
       "5. 71\n",
       "6. 110\n",
       "7. 34\n",
       "8. 34\n",
       "\n",
       "\n"
      ],
      "text/plain": [
       "[1]  47 125  90  18  71 110  34  34"
      ]
     },
     "metadata": {},
     "output_type": "display_data"
    }
   ],
   "source": [
    "d <- a+b\n",
    "d   #just see that on index add by others "
   ]
  },
  {
   "cell_type": "code",
   "execution_count": 62,
   "id": "contained-norman",
   "metadata": {},
   "outputs": [],
   "source": [
    "# Difference Vectorize and De-Vectorized\n",
    "\n",
    "#vectorized is always faster than devectorizetion\n",
    "\n",
    "#Julia programming tecnique are opposite from this on."
   ]
  },
  {
   "cell_type": "code",
   "execution_count": 63,
   "id": "empty-blogger",
   "metadata": {},
   "outputs": [],
   "source": [
    "N <- 100\n",
    "a <- rnorm(N)\n",
    "b <- rnorm(N)"
   ]
  },
  {
   "cell_type": "code",
   "execution_count": 64,
   "id": "ignored-outline",
   "metadata": {},
   "outputs": [],
   "source": [
    "# Vectorized\n",
    "c <- a*b\n",
    "# c"
   ]
  },
  {
   "cell_type": "code",
   "execution_count": 65,
   "id": "secondary-eleven",
   "metadata": {},
   "outputs": [],
   "source": [
    "# De-Vectorized"
   ]
  },
  {
   "cell_type": "code",
   "execution_count": 66,
   "id": "greek-patio",
   "metadata": {},
   "outputs": [],
   "source": [
    "d <- rep(NA, N) # NA define empty index and N means allocate memory\n",
    "for(i in 1:N){\n",
    "    d[i]<- a[i] * b[i]\n",
    "#     print(d[i])\n",
    "}"
   ]
  },
  {
   "cell_type": "markdown",
   "id": "documentary-indication",
   "metadata": {},
   "source": [
    "### Function in R"
   ]
  },
  {
   "cell_type": "code",
   "execution_count": 72,
   "id": "false-exhibit",
   "metadata": {},
   "outputs": [],
   "source": [
    "?rnorm             #if need description for any function\n",
    "# Discuss some function that we already discssed"
   ]
  },
  {
   "cell_type": "markdown",
   "id": "touched-sailing",
   "metadata": {},
   "source": [
    "### Packeges"
   ]
  },
  {
   "cell_type": "code",
   "execution_count": null,
   "id": "stupid-flush",
   "metadata": {},
   "outputs": [],
   "source": [
    "'''Packeges are collection of data and compile code with well define format.\n",
    "The Directory where packages are stored is called Library'''"
   ]
  },
  {
   "cell_type": "code",
   "execution_count": 75,
   "id": "occasional-habitat",
   "metadata": {},
   "outputs": [],
   "source": [
    "# what is CRan (Comprehensive R archive Network). ANyone can create package and update."
   ]
  },
  {
   "cell_type": "code",
   "execution_count": 76,
   "id": "temporal-dictionary",
   "metadata": {},
   "outputs": [
    {
     "name": "stderr",
     "output_type": "stream",
     "text": [
      "Warning message:\n",
      "\"package 'Packages_name' is not available (for R version 3.6.1)\""
     ]
    }
   ],
   "source": [
    "'''install.packages(\"Packages_name\")'''"
   ]
  },
  {
   "cell_type": "code",
   "execution_count": 79,
   "id": "adapted-fitness",
   "metadata": {},
   "outputs": [
    {
     "name": "stderr",
     "output_type": "stream",
     "text": [
      "Warning message:\n",
      "\"package 'ggplot2' was built under R version 3.6.3\""
     ]
    }
   ],
   "source": [
    "library(ggplot2)"
   ]
  },
  {
   "cell_type": "code",
   "execution_count": 80,
   "id": "plastic-royalty",
   "metadata": {},
   "outputs": [],
   "source": [
    "# ?diamonds()"
   ]
  },
  {
   "cell_type": "code",
   "execution_count": 81,
   "id": "military-boards",
   "metadata": {},
   "outputs": [
    {
     "data": {
      "image/png": "[encoded data removed]",
      "text/plain": [
       "plot without title"
      ]
     },
     "metadata": {},
     "output_type": "display_data"
    }
   ],
   "source": [
    "qplot(data=diamonds, carat, price, color=clarity,\n",
    "     facets=.~clarity)"
   ]
  },
  {
   "cell_type": "code",
   "execution_count": 83,
   "id": "legendary-attention",
   "metadata": {},
   "outputs": [],
   "source": [
    "#  ?mean()"
   ]
  },
  {
   "cell_type": "code",
   "execution_count": null,
   "id": "lyric-johnston",
   "metadata": {},
   "outputs": [],
   "source": []
  }
 ],
 "metadata": {
  "kernelspec": {
   "display_name": "R",
   "language": "R",
   "name": "ir"
  },
  "language_info": {
   "codemirror_mode": "r",
   "file_extension": ".r",
   "mimetype": "text/x-r-source",
   "name": "R",
   "pygments_lexer": "r",
   "version": "3.6.1"
  }
 },
 "nbformat": 4,
 "nbformat_minor": 5
}
