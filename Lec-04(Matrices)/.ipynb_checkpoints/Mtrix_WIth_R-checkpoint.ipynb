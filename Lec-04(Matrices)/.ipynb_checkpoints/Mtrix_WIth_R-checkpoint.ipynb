{
 "cells": [
  {
   "cell_type": "markdown",
   "id": "convenient-lawsuit",
   "metadata": {},
   "source": [
    "###### Table are stored as Matrices in R"
   ]
  },
  {
   "cell_type": "markdown",
   "id": "protecting-habitat",
   "metadata": {},
   "source": [
    "###### Indexing"
   ]
  },
  {
   "cell_type": "code",
   "execution_count": null,
   "id": "ranking-subsection",
   "metadata": {},
   "outputs": [],
   "source": [
    "In R indexing always start From 1"
   ]
  },
  {
   "cell_type": "code",
   "execution_count": null,
   "id": "express-bermuda",
   "metadata": {},
   "outputs": [],
   "source": [
    "A[3,4] # 3 represent as row and 4 represent as column"
   ]
  },
  {
   "cell_type": "code",
   "execution_count": null,
   "id": "another-scroll",
   "metadata": {},
   "outputs": [],
   "source": [
    "A[1, ]   #mean the  first row not any specific column"
   ]
  },
  {
   "cell_type": "code",
   "execution_count": null,
   "id": "answering-grain",
   "metadata": {},
   "outputs": [],
   "source": [
    "A[ ,4]  #mean the  fourth column not any specific row"
   ]
  },
  {
   "cell_type": "code",
   "execution_count": 2,
   "id": "technological-symbol",
   "metadata": {},
   "outputs": [],
   "source": [
    "# Number and character can't be in same matrix then it will be character"
   ]
  },
  {
   "cell_type": "markdown",
   "id": "theoretical-montana",
   "metadata": {},
   "source": [
    "##### Building Matix"
   ]
  },
  {
   "cell_type": "code",
   "execution_count": null,
   "id": "willing-minnesota",
   "metadata": {},
   "outputs": [],
   "source": [
    "# 3 way to nuild matrix\n",
    "cbind()\n",
    "rbind()\n",
    "matrix()"
   ]
  },
  {
   "cell_type": "code",
   "execution_count": 3,
   "id": "norwegian-italy",
   "metadata": {},
   "outputs": [],
   "source": [
    "# matrix representation by matrix() "
   ]
  },
  {
   "cell_type": "code",
   "execution_count": 5,
   "id": "funny-onion",
   "metadata": {},
   "outputs": [
    {
     "data": {
      "text/html": [
       "<table>\n",
       "<tbody>\n",
       "\t<tr><td>1 </td><td>5 </td><td> 9</td><td>13</td><td>17</td></tr>\n",
       "\t<tr><td>2 </td><td>6 </td><td>10</td><td>14</td><td>18</td></tr>\n",
       "\t<tr><td>3 </td><td>7 </td><td>11</td><td>15</td><td>19</td></tr>\n",
       "\t<tr><td>4 </td><td>8 </td><td>12</td><td>16</td><td>20</td></tr>\n",
       "</tbody>\n",
       "</table>\n"
      ],
      "text/latex": [
       "\\begin{tabular}{lllll}\n",
       "\t 1  & 5  &  9 & 13 & 17\\\\\n",
       "\t 2  & 6  & 10 & 14 & 18\\\\\n",
       "\t 3  & 7  & 11 & 15 & 19\\\\\n",
       "\t 4  & 8  & 12 & 16 & 20\\\\\n",
       "\\end{tabular}\n"
      ],
      "text/markdown": [
       "\n",
       "| 1  | 5  |  9 | 13 | 17 |\n",
       "| 2  | 6  | 10 | 14 | 18 |\n",
       "| 3  | 7  | 11 | 15 | 19 |\n",
       "| 4  | 8  | 12 | 16 | 20 |\n",
       "\n"
      ],
      "text/plain": [
       "     [,1] [,2] [,3] [,4] [,5]\n",
       "[1,] 1    5     9   13   17  \n",
       "[2,] 2    6    10   14   18  \n",
       "[3,] 3    7    11   15   19  \n",
       "[4,] 4    8    12   16   20  "
      ]
     },
     "metadata": {},
     "output_type": "display_data"
    }
   ],
   "source": [
    "mydata <- 1:20\n",
    "A <- matrix(mydata, 4 ,5)  #data, row, col\n",
    "A\n",
    "#data go top to bottom"
   ]
  },
  {
   "cell_type": "code",
   "execution_count": 7,
   "id": "honey-bradley",
   "metadata": {},
   "outputs": [
    {
     "data": {
      "text/html": [
       "15"
      ],
      "text/latex": [
       "15"
      ],
      "text/markdown": [
       "15"
      ],
      "text/plain": [
       "[1] 15"
      ]
     },
     "metadata": {},
     "output_type": "display_data"
    }
   ],
   "source": [
    "A[3,4]   #represent each value"
   ]
  },
  {
   "cell_type": "code",
   "execution_count": 8,
   "id": "eleven-welcome",
   "metadata": {},
   "outputs": [
    {
     "data": {
      "text/html": [
       "<table>\n",
       "<tbody>\n",
       "\t<tr><td> 1</td><td> 2</td><td> 3</td><td> 4</td><td> 5</td></tr>\n",
       "\t<tr><td> 6</td><td> 7</td><td> 8</td><td> 9</td><td>10</td></tr>\n",
       "\t<tr><td>11</td><td>12</td><td>13</td><td>14</td><td>15</td></tr>\n",
       "\t<tr><td>16</td><td>17</td><td>18</td><td>19</td><td>20</td></tr>\n",
       "</tbody>\n",
       "</table>\n"
      ],
      "text/latex": [
       "\\begin{tabular}{lllll}\n",
       "\t  1 &  2 &  3 &  4 &  5\\\\\n",
       "\t  6 &  7 &  8 &  9 & 10\\\\\n",
       "\t 11 & 12 & 13 & 14 & 15\\\\\n",
       "\t 16 & 17 & 18 & 19 & 20\\\\\n",
       "\\end{tabular}\n"
      ],
      "text/markdown": [
       "\n",
       "|  1 |  2 |  3 |  4 |  5 |\n",
       "|  6 |  7 |  8 |  9 | 10 |\n",
       "| 11 | 12 | 13 | 14 | 15 |\n",
       "| 16 | 17 | 18 | 19 | 20 |\n",
       "\n"
      ],
      "text/plain": [
       "     [,1] [,2] [,3] [,4] [,5]\n",
       "[1,]  1    2    3    4    5  \n",
       "[2,]  6    7    8    9   10  \n",
       "[3,] 11   12   13   14   15  \n",
       "[4,] 16   17   18   19   20  "
      ]
     },
     "metadata": {},
     "output_type": "display_data"
    }
   ],
   "source": [
    "B <- matrix(mydata, 4,5, byrow=T)\n",
    "B  #left to right"
   ]
  },
  {
   "cell_type": "code",
   "execution_count": 14,
   "id": "quick-flower",
   "metadata": {},
   "outputs": [
    {
     "data": {
      "text/html": [
       "10"
      ],
      "text/latex": [
       "10"
      ],
      "text/markdown": [
       "10"
      ],
      "text/plain": [
       "[1] 10"
      ]
     },
     "metadata": {},
     "output_type": "display_data"
    }
   ],
   "source": [
    "B[2,5]"
   ]
  },
  {
   "cell_type": "code",
   "execution_count": 15,
   "id": "wrapped-october",
   "metadata": {},
   "outputs": [],
   "source": [
    "# rbind() representation"
   ]
  },
  {
   "cell_type": "code",
   "execution_count": 16,
   "id": "potential-prayer",
   "metadata": {},
   "outputs": [],
   "source": [
    "r1 <- c(\"I\", \"am\", \"R\", \"Developer\")\n",
    "r2 <- c(\"Love\", \"with\", \"R\")\n",
    "r3 <- c(\"Lets\", \"do\", \"great\", \"things\")"
   ]
  },
  {
   "cell_type": "code",
   "execution_count": 17,
   "id": "ranking-standing",
   "metadata": {},
   "outputs": [
    {
     "name": "stderr",
     "output_type": "stream",
     "text": [
      "Warning message in rbind(r1, r2, r3):\n",
      "\"number of columns of result is not a multiple of vector length (arg 2)\""
     ]
    }
   ],
   "source": [
    "C <- rbind(r1, r2, r3)"
   ]
  },
  {
   "cell_type": "code",
   "execution_count": 18,
   "id": "reported-riverside",
   "metadata": {},
   "outputs": [
    {
     "data": {
      "text/html": [
       "<table>\n",
       "<tbody>\n",
       "\t<tr><th scope=row>r1</th><td>I        </td><td>am       </td><td>R        </td><td>Developer</td></tr>\n",
       "\t<tr><th scope=row>r2</th><td>Love     </td><td>with     </td><td>R        </td><td>Love     </td></tr>\n",
       "\t<tr><th scope=row>r3</th><td>Lets     </td><td>do       </td><td>great    </td><td>things   </td></tr>\n",
       "</tbody>\n",
       "</table>\n"
      ],
      "text/latex": [
       "\\begin{tabular}{r|llll}\n",
       "\tr1 & I         & am        & R         & Developer\\\\\n",
       "\tr2 & Love      & with      & R         & Love     \\\\\n",
       "\tr3 & Lets      & do        & great     & things   \\\\\n",
       "\\end{tabular}\n"
      ],
      "text/markdown": [
       "\n",
       "| r1 | I         | am        | R         | Developer |\n",
       "| r2 | Love      | with      | R         | Love      |\n",
       "| r3 | Lets      | do        | great     | things    |\n",
       "\n"
      ],
      "text/plain": [
       "   [,1] [,2] [,3]  [,4]     \n",
       "r1 I    am   R     Developer\n",
       "r2 Love with R     Love     \n",
       "r3 Lets do   great things   "
      ]
     },
     "metadata": {},
     "output_type": "display_data"
    }
   ],
   "source": [
    "C"
   ]
  },
  {
   "cell_type": "code",
   "execution_count": 19,
   "id": "front-enemy",
   "metadata": {},
   "outputs": [],
   "source": [
    "#cbind representation"
   ]
  },
  {
   "cell_type": "code",
   "execution_count": 30,
   "id": "increased-anatomy",
   "metadata": {},
   "outputs": [],
   "source": [
    "c1 <- -1:-5\n",
    "c2 <- 1:5"
   ]
  },
  {
   "cell_type": "code",
   "execution_count": 31,
   "id": "mature-banana",
   "metadata": {},
   "outputs": [
    {
     "data": {
      "text/html": [
       "<table>\n",
       "<thead><tr><th scope=col>c1</th><th scope=col>c2</th></tr></thead>\n",
       "<tbody>\n",
       "\t<tr><td>-1</td><td>1 </td></tr>\n",
       "\t<tr><td>-2</td><td>2 </td></tr>\n",
       "\t<tr><td>-3</td><td>3 </td></tr>\n",
       "\t<tr><td>-4</td><td>4 </td></tr>\n",
       "\t<tr><td>-5</td><td>5 </td></tr>\n",
       "</tbody>\n",
       "</table>\n"
      ],
      "text/latex": [
       "\\begin{tabular}{ll}\n",
       " c1 & c2\\\\\n",
       "\\hline\n",
       "\t -1 & 1 \\\\\n",
       "\t -2 & 2 \\\\\n",
       "\t -3 & 3 \\\\\n",
       "\t -4 & 4 \\\\\n",
       "\t -5 & 5 \\\\\n",
       "\\end{tabular}\n"
      ],
      "text/markdown": [
       "\n",
       "| c1 | c2 |\n",
       "|---|---|\n",
       "| -1 | 1  |\n",
       "| -2 | 2  |\n",
       "| -3 | 3  |\n",
       "| -4 | 4  |\n",
       "| -5 | 5  |\n",
       "\n"
      ],
      "text/plain": [
       "     c1 c2\n",
       "[1,] -1 1 \n",
       "[2,] -2 2 \n",
       "[3,] -3 3 \n",
       "[4,] -4 4 \n",
       "[5,] -5 5 "
      ]
     },
     "metadata": {},
     "output_type": "display_data"
    }
   ],
   "source": [
    "D <- cbind(c1, c2)\n",
    "D"
   ]
  },
  {
   "cell_type": "markdown",
   "id": "confirmed-recipe",
   "metadata": {},
   "source": [
    "#### Naming DimenSions"
   ]
  },
  {
   "cell_type": "code",
   "execution_count": 32,
   "id": "hybrid-butterfly",
   "metadata": {},
   "outputs": [],
   "source": [
    "# you can give any arbitary name for Row and Column"
   ]
  },
  {
   "cell_type": "code",
   "execution_count": 39,
   "id": "common-token",
   "metadata": {},
   "outputs": [],
   "source": [
    "# names(Charlie) <- c(\"A\", \"B\", \"C\", \"D\", \"E\")\n",
    "# names(Charlie) "
   ]
  },
  {
   "cell_type": "code",
   "execution_count": 43,
   "id": "incorrect-classification",
   "metadata": {},
   "outputs": [],
   "source": [
    "# clear names\n",
    "# names(Charlie) <- NULL"
   ]
  },
  {
   "cell_type": "code",
   "execution_count": 46,
   "id": "latin-antigua",
   "metadata": {},
   "outputs": [],
   "source": [
    "tem.vec <- rep(c(\"A\", \"B\", \"C\", \"D\", \"E\"), times=3)   # times mean how much time the whole vector"
   ]
  },
  {
   "cell_type": "code",
   "execution_count": 47,
   "id": "distinguished-russell",
   "metadata": {},
   "outputs": [
    {
     "data": {
      "text/html": [
       "<ol class=list-inline>\n",
       "\t<li>'A'</li>\n",
       "\t<li>'B'</li>\n",
       "\t<li>'C'</li>\n",
       "\t<li>'D'</li>\n",
       "\t<li>'E'</li>\n",
       "\t<li>'A'</li>\n",
       "\t<li>'B'</li>\n",
       "\t<li>'C'</li>\n",
       "\t<li>'D'</li>\n",
       "\t<li>'E'</li>\n",
       "\t<li>'A'</li>\n",
       "\t<li>'B'</li>\n",
       "\t<li>'C'</li>\n",
       "\t<li>'D'</li>\n",
       "\t<li>'E'</li>\n",
       "</ol>\n"
      ],
      "text/latex": [
       "\\begin{enumerate*}\n",
       "\\item 'A'\n",
       "\\item 'B'\n",
       "\\item 'C'\n",
       "\\item 'D'\n",
       "\\item 'E'\n",
       "\\item 'A'\n",
       "\\item 'B'\n",
       "\\item 'C'\n",
       "\\item 'D'\n",
       "\\item 'E'\n",
       "\\item 'A'\n",
       "\\item 'B'\n",
       "\\item 'C'\n",
       "\\item 'D'\n",
       "\\item 'E'\n",
       "\\end{enumerate*}\n"
      ],
      "text/markdown": [
       "1. 'A'\n",
       "2. 'B'\n",
       "3. 'C'\n",
       "4. 'D'\n",
       "5. 'E'\n",
       "6. 'A'\n",
       "7. 'B'\n",
       "8. 'C'\n",
       "9. 'D'\n",
       "10. 'E'\n",
       "11. 'A'\n",
       "12. 'B'\n",
       "13. 'C'\n",
       "14. 'D'\n",
       "15. 'E'\n",
       "\n",
       "\n"
      ],
      "text/plain": [
       " [1] \"A\" \"B\" \"C\" \"D\" \"E\" \"A\" \"B\" \"C\" \"D\" \"E\" \"A\" \"B\" \"C\" \"D\" \"E\""
      ]
     },
     "metadata": {},
     "output_type": "display_data"
    }
   ],
   "source": [
    "tem.vec"
   ]
  },
  {
   "cell_type": "code",
   "execution_count": 50,
   "id": "together-excitement",
   "metadata": {},
   "outputs": [],
   "source": [
    "tem.vec <- rep(c(\"A\", \"B\", \"C\", \"D\", \"E\"), each=3) #each mean each value replicate not whole vector"
   ]
  },
  {
   "cell_type": "code",
   "execution_count": 51,
   "id": "challenging-spain",
   "metadata": {},
   "outputs": [
    {
     "data": {
      "text/html": [
       "<ol class=list-inline>\n",
       "\t<li>'A'</li>\n",
       "\t<li>'A'</li>\n",
       "\t<li>'A'</li>\n",
       "\t<li>'B'</li>\n",
       "\t<li>'B'</li>\n",
       "\t<li>'B'</li>\n",
       "\t<li>'C'</li>\n",
       "\t<li>'C'</li>\n",
       "\t<li>'C'</li>\n",
       "\t<li>'D'</li>\n",
       "\t<li>'D'</li>\n",
       "\t<li>'D'</li>\n",
       "\t<li>'E'</li>\n",
       "\t<li>'E'</li>\n",
       "\t<li>'E'</li>\n",
       "</ol>\n"
      ],
      "text/latex": [
       "\\begin{enumerate*}\n",
       "\\item 'A'\n",
       "\\item 'A'\n",
       "\\item 'A'\n",
       "\\item 'B'\n",
       "\\item 'B'\n",
       "\\item 'B'\n",
       "\\item 'C'\n",
       "\\item 'C'\n",
       "\\item 'C'\n",
       "\\item 'D'\n",
       "\\item 'D'\n",
       "\\item 'D'\n",
       "\\item 'E'\n",
       "\\item 'E'\n",
       "\\item 'E'\n",
       "\\end{enumerate*}\n"
      ],
      "text/markdown": [
       "1. 'A'\n",
       "2. 'A'\n",
       "3. 'A'\n",
       "4. 'B'\n",
       "5. 'B'\n",
       "6. 'B'\n",
       "7. 'C'\n",
       "8. 'C'\n",
       "9. 'C'\n",
       "10. 'D'\n",
       "11. 'D'\n",
       "12. 'D'\n",
       "13. 'E'\n",
       "14. 'E'\n",
       "15. 'E'\n",
       "\n",
       "\n"
      ],
      "text/plain": [
       " [1] \"A\" \"A\" \"A\" \"B\" \"B\" \"B\" \"C\" \"C\" \"C\" \"D\" \"D\" \"D\" \"E\" \"E\" \"E\""
      ]
     },
     "metadata": {},
     "output_type": "display_data"
    }
   ],
   "source": [
    "tem.vec"
   ]
  },
  {
   "cell_type": "code",
   "execution_count": 57,
   "id": "addressed-pierre",
   "metadata": {},
   "outputs": [
    {
     "data": {
      "text/html": [
       "<table>\n",
       "<tbody>\n",
       "\t<tr><td>A</td><td>B</td><td>C</td><td>D</td><td>E</td></tr>\n",
       "\t<tr><td>A</td><td>B</td><td>C</td><td>D</td><td>E</td></tr>\n",
       "\t<tr><td>A</td><td>B</td><td>C</td><td>D</td><td>E</td></tr>\n",
       "</tbody>\n",
       "</table>\n"
      ],
      "text/latex": [
       "\\begin{tabular}{lllll}\n",
       "\t A & B & C & D & E\\\\\n",
       "\t A & B & C & D & E\\\\\n",
       "\t A & B & C & D & E\\\\\n",
       "\\end{tabular}\n"
      ],
      "text/markdown": [
       "\n",
       "| A | B | C | D | E |\n",
       "| A | B | C | D | E |\n",
       "| A | B | C | D | E |\n",
       "\n"
      ],
      "text/plain": [
       "     [,1] [,2] [,3] [,4] [,5]\n",
       "[1,] A    B    C    D    E   \n",
       "[2,] A    B    C    D    E   \n",
       "[3,] A    B    C    D    E   "
      ]
     },
     "metadata": {},
     "output_type": "display_data"
    }
   ],
   "source": [
    "Bond <- matrix(tem.vec, 3,5)\n",
    "Bond"
   ]
  },
  {
   "cell_type": "code",
   "execution_count": 69,
   "id": "anonymous-ethics",
   "metadata": {},
   "outputs": [
    {
     "ename": "ERROR",
     "evalue": "Error in parse(text = x, srcfile = src): <text>:1:37: unexpected symbol\n1: rownames(\"Bravo\") <- c(2,3,4,5,6)   these\n                                        ^\n",
     "output_type": "error",
     "traceback": [
      "Error in parse(text = x, srcfile = src): <text>:1:37: unexpected symbol\n1: rownames(\"Bravo\") <- c(2,3,4,5,6)   these\n                                        ^\nTraceback:\n"
     ]
    }
   ],
   "source": [
    "# rownames(\"Bravo\") <- c(2,3,4,5,6)   these process could apply to identify arbitary row and column name\n",
    "# colnames(Bravo) <- c(2,3,4,5,6)"
   ]
  },
  {
   "cell_type": "code",
   "execution_count": null,
   "id": "featured-croatia",
   "metadata": {},
   "outputs": [],
   "source": []
  },
  {
   "cell_type": "markdown",
   "id": "returning-faculty",
   "metadata": {},
   "source": [
    "### Matrix Operation"
   ]
  },
  {
   "cell_type": "code",
   "execution_count": 70,
   "id": "corresponding-highland",
   "metadata": {},
   "outputs": [],
   "source": [
    "# See in Dataset example"
   ]
  },
  {
   "cell_type": "markdown",
   "id": "alternate-swedish",
   "metadata": {},
   "source": [
    "#### Matplot function"
   ]
  },
  {
   "cell_type": "code",
   "execution_count": 71,
   "id": "quantitative-interval",
   "metadata": {},
   "outputs": [],
   "source": [
    "# ?matplot()"
   ]
  },
  {
   "cell_type": "code",
   "execution_count": 72,
   "id": "scenic-feelings",
   "metadata": {},
   "outputs": [],
   "source": [
    "# for transposing any matrix just type \"t\""
   ]
  },
  {
   "cell_type": "code",
   "execution_count": null,
   "id": "expensive-analyst",
   "metadata": {},
   "outputs": [],
   "source": [
    "\"\"\"when using matplot function just check which you want to plot if column then no prblm but if rwo then transport\"\"\""
   ]
  },
  {
   "cell_type": "code",
   "execution_count": 73,
   "id": "resident-update",
   "metadata": {},
   "outputs": [],
   "source": [
    "# See in dataset examples"
   ]
  },
  {
   "cell_type": "markdown",
   "id": "metric-manual",
   "metadata": {},
   "source": [
    "### Subsetting"
   ]
  },
  {
   "cell_type": "code",
   "execution_count": 74,
   "id": "checked-sailing",
   "metadata": {},
   "outputs": [],
   "source": [
    "# See in the dataset part"
   ]
  },
  {
   "cell_type": "code",
   "execution_count": 75,
   "id": "painful-spell",
   "metadata": {},
   "outputs": [],
   "source": [
    "#  also matplot"
   ]
  },
  {
   "cell_type": "markdown",
   "id": "growing-naples",
   "metadata": {},
   "source": [
    " ###  Function Creation"
   ]
  },
  {
   "cell_type": "code",
   "execution_count": 76,
   "id": "taken-mystery",
   "metadata": {},
   "outputs": [],
   "source": [
    "# See in Dataset"
   ]
  },
  {
   "cell_type": "code",
   "execution_count": null,
   "id": "auburn-corrections",
   "metadata": {},
   "outputs": [],
   "source": [
    "'''myPlot <- function(parameter){\n",
    "    \n",
    "}'''\n",
    "# myplot(parameter)    calling the function   \n",
    "# its a template of making function"
   ]
  }
 ],
 "metadata": {
  "kernelspec": {
   "display_name": "R",
   "language": "R",
   "name": "ir"
  },
  "language_info": {
   "codemirror_mode": "r",
   "file_extension": ".r",
   "mimetype": "text/x-r-source",
   "name": "R",
   "pygments_lexer": "r",
   "version": "3.6.1"
  }
 },
 "nbformat": 4,
 "nbformat_minor": 5
}
