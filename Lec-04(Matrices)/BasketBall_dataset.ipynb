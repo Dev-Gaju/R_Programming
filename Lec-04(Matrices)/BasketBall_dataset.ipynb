{
 "cells": [
  {
   "cell_type": "code",
   "execution_count": null,
   "id": "powerful-serve",
   "metadata": {},
   "outputs": [],
   "source": [
    "#Dear Student,\n",
    "#\n",
    "#Welcome to the world of Basketball Data!\n",
    "#I'm sure you will enjoy this section of the R Programming course.\n",
    "#\n",
    "#Instructions for this dataset:\n",
    "# Simply select ALL the lines in this script by pressing \n",
    "# CTRL+A on Windows or CMND+A on a Mac and execute them\n",
    "# Once you have executed the commands the following objects\n",
    "# will be created:\n",
    "# Matrices:\n",
    "# - FieldGoalAttempts\n",
    "# - FieldGoals\n",
    "# - Games\n",
    "# - MinutesPlayed\n",
    "# - Salary\n",
    "# Vectors:\n",
    "# - Players\n",
    "# - Seasons\n",
    "#We will go understand these inside the course.\n",
    "#\n",
    "#Sincerely,\n",
    "#Kirill Eremenko\n",
    "#www.superdatascience.com\n",
    "\n",
    "#Copyright: These datasets were prepared using publicly available data.\n",
    "#           However, theses scripts are subject to Copyright Laws. \n",
    "#           If you wish to use these R scripts outside of the R Programming Course\n",
    "#           by Kirill Eremenko, you may do so by referencing www.superdatascience.com in your work.\n",
    "\n",
    "#Comments:\n",
    "#Seasons are labeled based on the first year in the season\n",
    "#E.g. the 2012-2013 season is preseneted as simply 2012\n",
    "\n",
    "#Notes and Corrections to the data:\n",
    "#Kevin Durant: 2006 - College Data Used\n",
    "#Kevin Durant: 2005 - Proxied With 2006 Data\n",
    "#Derrick Rose: 2012 - Did Not Play\n",
    "#Derrick Rose: 2007 - College Data Used\n",
    "#Derrick Rose: 2006 - Proxied With 2007 Data\n",
    "#Derrick Rose: 2005 - Proxied With 2007 Data\n"
   ]
  },
  {
   "cell_type": "code",
   "execution_count": null,
   "id": "sporting-australian",
   "metadata": {},
   "outputs": [],
   "source": [
    "\n",
    "#Seasons\n",
    "Seasons <- c(\"2005\",\"2006\",\"2007\",\"2008\",\"2009\",\"2010\",\"2011\",\"2012\",\"2013\",\"2014\")\n",
    "\n",
    "#Players\n",
    "Players <- c(\"KobeBryant\",\"JoeJohnson\",\"LeBronJames\",\"CarmeloAnthony\",\"DwightHoward\",\"ChrisBosh\",\"ChrisPaul\",\"KevinDurant\",\n",
    "             \"DerrickRose\",\"DwayneWade\")\n"
   ]
  },
  {
   "cell_type": "code",
   "execution_count": 14,
   "id": "reasonable-pixel",
   "metadata": {},
   "outputs": [],
   "source": [
    "\n",
    "#Salaries\n",
    "KobeBryant_Salary <- c(15946875,17718750,19490625,21262500,23034375,24806250,25244493,27849149,30453805,23500000)\n",
    "JoeJohnson_Salary <- c(12000000,12744189,13488377,14232567,14976754,16324500,18038573,19752645,21466718,23180790)\n",
    "LeBronJames_Salary <- c(4621800,5828090,13041250,14410581,15779912,14500000,16022500,17545000,19067500,20644400)\n",
    "CarmeloAnthony_Salary <- c(3713640,4694041,13041250,14410581,15779912,17149243,18518574,19450000,22407474,22458000)\n",
    "DwightHoward_Salary <- c(4493160,4806720,6061274,13758000,15202590,16647180,18091770,19536360,20513178,21436271)\n",
    "ChrisBosh_Salary <- c(3348000,4235220,12455000,14410581,15779912,14500000,16022500,17545000,19067500,20644400)\n",
    "ChrisPaul_Salary <- c(3144240,3380160,3615960,4574189,13520500,14940153,16359805,17779458,18668431,20068563)\n",
    "KevinDurant_Salary <- c(0,0,4171200,4484040,4796880,6053663,15506632,16669630,17832627,18995624)\n",
    "DerrickRose_Salary <- c(0,0,0,4822800,5184480,5546160,6993708,16402500,17632688,18862875)\n",
    "DwayneWade_Salary <- c(3031920,3841443,13041250,14410581,15779912,14200000,15691000,17182000,18673000,15000000)\n",
    "#Matrix\n",
    "Salary <- rbind(KobeBryant_Salary, JoeJohnson_Salary, LeBronJames_Salary, CarmeloAnthony_Salary,\n",
    "                DwightHoward_Salary, ChrisBosh_Salary, ChrisPaul_Salary, KevinDurant_Salary,\n",
    "                DerrickRose_Salary,DwayneWade_Salary)  #rbind  put all vector together and make matrices\n",
    "\n",
    "# rm(KobeBryant_Salary, JoeJohnson_Salary, CarmeloAnthony_Salary, DwightHoward_Salary,\n",
    "#    ChrisBosh_Salary, LeBronJames_Salary,ChrisPaul_Salary, DerrickRose_Salary,\n",
    "#    DwayneWade_Salary, KevinDurant_Salary)   #rm remove the previous one and replace by update on\n",
    "\n",
    "colnames(Salary) <- Seasons     #colname define the season  name based on salary\n",
    "rownames(Salary) <- Players     #row name define the players on salary \n"
   ]
  },
  {
   "cell_type": "code",
   "execution_count": 29,
   "id": "concrete-cleaning",
   "metadata": {},
   "outputs": [
    {
     "data": {
      "text/html": [
       "23034375"
      ],
      "text/latex": [
       "23034375"
      ],
      "text/markdown": [
       "23034375"
      ],
      "text/plain": [
       "[1] 23034375"
      ]
     },
     "metadata": {},
     "output_type": "display_data"
    }
   ],
   "source": [
    "Salary[\"KobeBryant\", \"2009\"]"
   ]
  },
  {
   "cell_type": "code",
   "execution_count": 22,
   "id": "corresponding-edmonton",
   "metadata": {},
   "outputs": [
    {
     "data": {
      "text/html": [
       "<ol class=list-inline>\n",
       "\t<li>'2005'</li>\n",
       "\t<li>'2006'</li>\n",
       "\t<li>'2007'</li>\n",
       "\t<li>'2008'</li>\n",
       "\t<li>'2009'</li>\n",
       "\t<li>'2010'</li>\n",
       "\t<li>'2011'</li>\n",
       "\t<li>'2012'</li>\n",
       "\t<li>'2013'</li>\n",
       "\t<li>'2014'</li>\n",
       "</ol>\n"
      ],
      "text/latex": [
       "\\begin{enumerate*}\n",
       "\\item '2005'\n",
       "\\item '2006'\n",
       "\\item '2007'\n",
       "\\item '2008'\n",
       "\\item '2009'\n",
       "\\item '2010'\n",
       "\\item '2011'\n",
       "\\item '2012'\n",
       "\\item '2013'\n",
       "\\item '2014'\n",
       "\\end{enumerate*}\n"
      ],
      "text/markdown": [
       "1. '2005'\n",
       "2. '2006'\n",
       "3. '2007'\n",
       "4. '2008'\n",
       "5. '2009'\n",
       "6. '2010'\n",
       "7. '2011'\n",
       "8. '2012'\n",
       "9. '2013'\n",
       "10. '2014'\n",
       "\n",
       "\n"
      ],
      "text/plain": [
       " [1] \"2005\" \"2006\" \"2007\" \"2008\" \"2009\" \"2010\" \"2011\" \"2012\" \"2013\" \"2014\""
      ]
     },
     "metadata": {},
     "output_type": "display_data"
    }
   ],
   "source": [
    "colnames(Salary)"
   ]
  },
  {
   "cell_type": "code",
   "execution_count": 23,
   "id": "straight-coffee",
   "metadata": {},
   "outputs": [
    {
     "data": {
      "text/html": [
       "<ol class=list-inline>\n",
       "\t<li>'KobeBryant'</li>\n",
       "\t<li>'JoeJohnson'</li>\n",
       "\t<li>'LeBronJames'</li>\n",
       "\t<li>'CarmeloAnthony'</li>\n",
       "\t<li>'DwightHoward'</li>\n",
       "\t<li>'ChrisBosh'</li>\n",
       "\t<li>'ChrisPaul'</li>\n",
       "\t<li>'KevinDurant'</li>\n",
       "\t<li>'DerrickRose'</li>\n",
       "\t<li>'DwayneWade'</li>\n",
       "</ol>\n"
      ],
      "text/latex": [
       "\\begin{enumerate*}\n",
       "\\item 'KobeBryant'\n",
       "\\item 'JoeJohnson'\n",
       "\\item 'LeBronJames'\n",
       "\\item 'CarmeloAnthony'\n",
       "\\item 'DwightHoward'\n",
       "\\item 'ChrisBosh'\n",
       "\\item 'ChrisPaul'\n",
       "\\item 'KevinDurant'\n",
       "\\item 'DerrickRose'\n",
       "\\item 'DwayneWade'\n",
       "\\end{enumerate*}\n"
      ],
      "text/markdown": [
       "1. 'KobeBryant'\n",
       "2. 'JoeJohnson'\n",
       "3. 'LeBronJames'\n",
       "4. 'CarmeloAnthony'\n",
       "5. 'DwightHoward'\n",
       "6. 'ChrisBosh'\n",
       "7. 'ChrisPaul'\n",
       "8. 'KevinDurant'\n",
       "9. 'DerrickRose'\n",
       "10. 'DwayneWade'\n",
       "\n",
       "\n"
      ],
      "text/plain": [
       " [1] \"KobeBryant\"     \"JoeJohnson\"     \"LeBronJames\"    \"CarmeloAnthony\"\n",
       " [5] \"DwightHoward\"   \"ChrisBosh\"      \"ChrisPaul\"      \"KevinDurant\"   \n",
       " [9] \"DerrickRose\"    \"DwayneWade\"    "
      ]
     },
     "metadata": {},
     "output_type": "display_data"
    }
   ],
   "source": [
    "rownames(Salary)"
   ]
  },
  {
   "cell_type": "code",
   "execution_count": null,
   "id": "mysterious-sigma",
   "metadata": {},
   "outputs": [],
   "source": []
  },
  {
   "cell_type": "code",
   "execution_count": 17,
   "id": "approximate-upset",
   "metadata": {},
   "outputs": [],
   "source": [
    "#Games \n",
    "KobeBryant_G <- c(80,77,82,82,73,82,58,78,6,35)\n",
    "JoeJohnson_G <- c(82,57,82,79,76,72,60,72,79,80)\n",
    "LeBronJames_G <- c(79,78,75,81,76,79,62,76,77,69)\n",
    "CarmeloAnthony_G <- c(80,65,77,66,69,77,55,67,77,40)\n",
    "DwightHoward_G <- c(82,82,82,79,82,78,54,76,71,41)\n",
    "ChrisBosh_G <- c(70,69,67,77,70,77,57,74,79,44)\n",
    "ChrisPaul_G <- c(78,64,80,78,45,80,60,70,62,82)\n",
    "KevinDurant_G <- c(35,35,80,74,82,78,66,81,81,27)\n",
    "DerrickRose_G <- c(40,40,40,81,78,81,39,0,10,51)\n",
    "DwayneWade_G <- c(75,51,51,79,77,76,49,69,54,62)\n",
    "#Matrix\n",
    "Games <- rbind(KobeBryant_G, JoeJohnson_G, LeBronJames_G, CarmeloAnthony_G, DwightHoward_G, ChrisBosh_G, ChrisPaul_G, KevinDurant_G, DerrickRose_G, DwayneWade_G)\n",
    "rm(KobeBryant_G, JoeJohnson_G, CarmeloAnthony_G, DwightHoward_G, ChrisBosh_G, LeBronJames_G, ChrisPaul_G, DerrickRose_G, DwayneWade_G, KevinDurant_G)\n",
    "colnames(Games) <- Seasons\n",
    "rownames(Games) <- Players"
   ]
  },
  {
   "cell_type": "code",
   "execution_count": 27,
   "id": "similar-bread",
   "metadata": {},
   "outputs": [
    {
     "data": {
      "text/html": [
       "69"
      ],
      "text/latex": [
       "69"
      ],
      "text/markdown": [
       "69"
      ],
      "text/plain": [
       "[1] 69"
      ]
     },
     "metadata": {},
     "output_type": "display_data"
    }
   ],
   "source": [
    "Games[\"LeBronJames\", \"2014\"]"
   ]
  },
  {
   "cell_type": "code",
   "execution_count": null,
   "id": "removed-broadway",
   "metadata": {},
   "outputs": [],
   "source": [
    "\n",
    "#Minutes Played\n",
    "KobeBryant_MP <- c(3277,3140,3192,2960,2835,2779,2232,3013,177,1207)\n",
    "JoeJohnson_MP <- c(3340,2359,3343,3124,2886,2554,2127,2642,2575,2791)\n",
    "LeBronJames_MP <- c(3361,3190,3027,3054,2966,3063,2326,2877,2902,2493)\n",
    "CarmeloAnthony_MP <- c(2941,2486,2806,2277,2634,2751,1876,2482,2982,1428)\n",
    "DwightHoward_MP <- c(3021,3023,3088,2821,2843,2935,2070,2722,2396,1223)\n",
    "ChrisBosh_MP <- c(2751,2658,2425,2928,2526,2795,2007,2454,2531,1556)\n",
    "ChrisPaul_MP <- c(2808,2353,3006,3002,1712,2880,2181,2335,2171,2857)\n",
    "KevinDurant_MP <- c(1255,1255,2768,2885,3239,3038,2546,3119,3122,913)\n",
    "DerrickRose_MP <- c(1168,1168,1168,3000,2871,3026,1375,0,311,1530)\n",
    "DwayneWade_MP <- c(2892,1931,1954,3048,2792,2823,1625,2391,1775,1971)\n",
    "#Matrix\n",
    "MinutesPlayed <- rbind(KobeBryant_MP, JoeJohnson_MP, LeBronJames_MP, CarmeloAnthony_MP, DwightHoward_MP, ChrisBosh_MP, ChrisPaul_MP, KevinDurant_MP, DerrickRose_MP, DwayneWade_MP)\n",
    "rm(KobeBryant_MP, JoeJohnson_MP, CarmeloAnthony_MP, DwightHoward_MP, ChrisBosh_MP, LeBronJames_MP, ChrisPaul_MP, DerrickRose_MP, DwayneWade_MP, KevinDurant_MP)\n",
    "colnames(MinutesPlayed) <- Seasons\n",
    "rownames(MinutesPlayed) <- Players"
   ]
  },
  {
   "cell_type": "code",
   "execution_count": null,
   "id": "under-particle",
   "metadata": {},
   "outputs": [],
   "source": [
    "#Field Goals\n",
    "KobeBryant_FG <- c(978,813,775,800,716,740,574,738,31,266)\n",
    "JoeJohnson_FG <- c(632,536,647,620,635,514,423,445,462,446)\n",
    "LeBronJames_FG <- c(875,772,794,789,768,758,621,765,767,624)\n",
    "CarmeloAnthony_FG <- c(756,691,728,535,688,684,441,669,743,358)\n",
    "DwightHoward_FG <- c(468,526,583,560,510,619,416,470,473,251)\n",
    "ChrisBosh_FG <- c(549,543,507,615,600,524,393,485,492,343)\n",
    "ChrisPaul_FG <- c(407,381,630,631,314,430,425,412,406,568)\n",
    "KevinDurant_FG <- c(306,306,587,661,794,711,643,731,849,238)\n",
    "DerrickRose_FG <- c(208,208,208,574,672,711,302,0,58,338)\n",
    "DwayneWade_FG <- c(699,472,439,854,719,692,416,569,415,509)\n",
    "#Matrix\n",
    "FieldGoals <- rbind(KobeBryant_FG, JoeJohnson_FG, LeBronJames_FG, CarmeloAnthony_FG, DwightHoward_FG, ChrisBosh_FG, ChrisPaul_FG, KevinDurant_FG, DerrickRose_FG, DwayneWade_FG)\n",
    "rm(KobeBryant_FG, JoeJohnson_FG, LeBronJames_FG, CarmeloAnthony_FG, DwightHoward_FG, ChrisBosh_FG, ChrisPaul_FG, KevinDurant_FG, DerrickRose_FG, DwayneWade_FG)\n",
    "colnames(FieldGoals) <- Seasons\n",
    "rownames(FieldGoals) <- Players"
   ]
  },
  {
   "cell_type": "code",
   "execution_count": 32,
   "id": "boxed-keyboard",
   "metadata": {},
   "outputs": [
    {
     "data": {
      "text/html": [
       "<table>\n",
       "<thead><tr><th></th><th scope=col>2005</th><th scope=col>2006</th><th scope=col>2007</th><th scope=col>2008</th><th scope=col>2009</th><th scope=col>2010</th><th scope=col>2011</th><th scope=col>2012</th><th scope=col>2013</th><th scope=col>2014</th></tr></thead>\n",
       "<tbody>\n",
       "\t<tr><th scope=row>KobeBryant</th><td>12.2</td><td>10.6</td><td> 9.5</td><td> 9.8</td><td> 9.8</td><td>9.0 </td><td> 9.9</td><td> 9.5</td><td> 5.2</td><td>7.6 </td></tr>\n",
       "\t<tr><th scope=row>JoeJohnson</th><td> 7.7</td><td> 9.4</td><td> 7.9</td><td> 7.8</td><td> 8.4</td><td>7.1 </td><td> 7.0</td><td> 6.2</td><td> 5.8</td><td>5.6 </td></tr>\n",
       "\t<tr><th scope=row>LeBronJames</th><td>11.1</td><td> 9.9</td><td>10.6</td><td> 9.7</td><td>10.1</td><td>9.6 </td><td>10.0</td><td>10.1</td><td>10.0</td><td>9.0 </td></tr>\n",
       "\t<tr><th scope=row>CarmeloAnthony</th><td> 9.4</td><td>10.6</td><td> 9.5</td><td> 8.1</td><td>10.0</td><td>8.9 </td><td> 8.0</td><td>10.0</td><td> 9.6</td><td>8.9 </td></tr>\n",
       "\t<tr><th scope=row>DwightHoward</th><td> 5.7</td><td> 6.4</td><td> 7.1</td><td> 7.1</td><td> 6.2</td><td>7.9 </td><td> 7.7</td><td> 6.2</td><td> 6.7</td><td>6.1 </td></tr>\n",
       "\t<tr><th scope=row>ChrisBosh</th><td> 7.8</td><td> 7.9</td><td> 7.6</td><td> 8.0</td><td> 8.6</td><td>6.8 </td><td> 6.9</td><td> 6.6</td><td> 6.2</td><td>7.8 </td></tr>\n",
       "\t<tr><th scope=row>ChrisPaul</th><td> 5.2</td><td> 6.0</td><td> 7.9</td><td> 8.1</td><td> 7.0</td><td>5.4 </td><td> 7.1</td><td> 5.9</td><td> 6.5</td><td>6.9 </td></tr>\n",
       "\t<tr><th scope=row>KevinDurant</th><td> 8.7</td><td> 8.7</td><td> 7.3</td><td> 8.9</td><td> 9.7</td><td>9.1 </td><td> 9.7</td><td> 9.0</td><td>10.5</td><td>8.8 </td></tr>\n",
       "\t<tr><th scope=row>DerrickRose</th><td> 5.2</td><td> 5.2</td><td> 5.2</td><td> 7.1</td><td> 8.6</td><td>8.8 </td><td> 7.7</td><td> NaN</td><td> 5.8</td><td>6.6 </td></tr>\n",
       "\t<tr><th scope=row>DwayneWade</th><td> 9.3</td><td> 9.3</td><td> 8.6</td><td>10.8</td><td> 9.3</td><td>9.1 </td><td> 8.5</td><td> 8.2</td><td> 7.7</td><td>8.2 </td></tr>\n",
       "</tbody>\n",
       "</table>\n"
      ],
      "text/latex": [
       "\\begin{tabular}{r|llllllllll}\n",
       "  & 2005 & 2006 & 2007 & 2008 & 2009 & 2010 & 2011 & 2012 & 2013 & 2014\\\\\n",
       "\\hline\n",
       "\tKobeBryant & 12.2 & 10.6 &  9.5 &  9.8 &  9.8 & 9.0  &  9.9 &  9.5 &  5.2 & 7.6 \\\\\n",
       "\tJoeJohnson &  7.7 &  9.4 &  7.9 &  7.8 &  8.4 & 7.1  &  7.0 &  6.2 &  5.8 & 5.6 \\\\\n",
       "\tLeBronJames & 11.1 &  9.9 & 10.6 &  9.7 & 10.1 & 9.6  & 10.0 & 10.1 & 10.0 & 9.0 \\\\\n",
       "\tCarmeloAnthony &  9.4 & 10.6 &  9.5 &  8.1 & 10.0 & 8.9  &  8.0 & 10.0 &  9.6 & 8.9 \\\\\n",
       "\tDwightHoward &  5.7 &  6.4 &  7.1 &  7.1 &  6.2 & 7.9  &  7.7 &  6.2 &  6.7 & 6.1 \\\\\n",
       "\tChrisBosh &  7.8 &  7.9 &  7.6 &  8.0 &  8.6 & 6.8  &  6.9 &  6.6 &  6.2 & 7.8 \\\\\n",
       "\tChrisPaul &  5.2 &  6.0 &  7.9 &  8.1 &  7.0 & 5.4  &  7.1 &  5.9 &  6.5 & 6.9 \\\\\n",
       "\tKevinDurant &  8.7 &  8.7 &  7.3 &  8.9 &  9.7 & 9.1  &  9.7 &  9.0 & 10.5 & 8.8 \\\\\n",
       "\tDerrickRose &  5.2 &  5.2 &  5.2 &  7.1 &  8.6 & 8.8  &  7.7 &  NaN &  5.8 & 6.6 \\\\\n",
       "\tDwayneWade &  9.3 &  9.3 &  8.6 & 10.8 &  9.3 & 9.1  &  8.5 &  8.2 &  7.7 & 8.2 \\\\\n",
       "\\end{tabular}\n"
      ],
      "text/markdown": [
       "\n",
       "| <!--/--> | 2005 | 2006 | 2007 | 2008 | 2009 | 2010 | 2011 | 2012 | 2013 | 2014 |\n",
       "|---|---|---|---|---|---|---|---|---|---|---|\n",
       "| KobeBryant | 12.2 | 10.6 |  9.5 |  9.8 |  9.8 | 9.0  |  9.9 |  9.5 |  5.2 | 7.6  |\n",
       "| JoeJohnson |  7.7 |  9.4 |  7.9 |  7.8 |  8.4 | 7.1  |  7.0 |  6.2 |  5.8 | 5.6  |\n",
       "| LeBronJames | 11.1 |  9.9 | 10.6 |  9.7 | 10.1 | 9.6  | 10.0 | 10.1 | 10.0 | 9.0  |\n",
       "| CarmeloAnthony |  9.4 | 10.6 |  9.5 |  8.1 | 10.0 | 8.9  |  8.0 | 10.0 |  9.6 | 8.9  |\n",
       "| DwightHoward |  5.7 |  6.4 |  7.1 |  7.1 |  6.2 | 7.9  |  7.7 |  6.2 |  6.7 | 6.1  |\n",
       "| ChrisBosh |  7.8 |  7.9 |  7.6 |  8.0 |  8.6 | 6.8  |  6.9 |  6.6 |  6.2 | 7.8  |\n",
       "| ChrisPaul |  5.2 |  6.0 |  7.9 |  8.1 |  7.0 | 5.4  |  7.1 |  5.9 |  6.5 | 6.9  |\n",
       "| KevinDurant |  8.7 |  8.7 |  7.3 |  8.9 |  9.7 | 9.1  |  9.7 |  9.0 | 10.5 | 8.8  |\n",
       "| DerrickRose |  5.2 |  5.2 |  5.2 |  7.1 |  8.6 | 8.8  |  7.7 |  NaN |  5.8 | 6.6  |\n",
       "| DwayneWade |  9.3 |  9.3 |  8.6 | 10.8 |  9.3 | 9.1  |  8.5 |  8.2 |  7.7 | 8.2  |\n",
       "\n"
      ],
      "text/plain": [
       "               2005 2006 2007 2008 2009 2010 2011 2012 2013 2014\n",
       "KobeBryant     12.2 10.6  9.5  9.8  9.8 9.0   9.9  9.5  5.2 7.6 \n",
       "JoeJohnson      7.7  9.4  7.9  7.8  8.4 7.1   7.0  6.2  5.8 5.6 \n",
       "LeBronJames    11.1  9.9 10.6  9.7 10.1 9.6  10.0 10.1 10.0 9.0 \n",
       "CarmeloAnthony  9.4 10.6  9.5  8.1 10.0 8.9   8.0 10.0  9.6 8.9 \n",
       "DwightHoward    5.7  6.4  7.1  7.1  6.2 7.9   7.7  6.2  6.7 6.1 \n",
       "ChrisBosh       7.8  7.9  7.6  8.0  8.6 6.8   6.9  6.6  6.2 7.8 \n",
       "ChrisPaul       5.2  6.0  7.9  8.1  7.0 5.4   7.1  5.9  6.5 6.9 \n",
       "KevinDurant     8.7  8.7  7.3  8.9  9.7 9.1   9.7  9.0 10.5 8.8 \n",
       "DerrickRose     5.2  5.2  5.2  7.1  8.6 8.8   7.7  NaN  5.8 6.6 \n",
       "DwayneWade      9.3  9.3  8.6 10.8  9.3 9.1   8.5  8.2  7.7 8.2 "
      ]
     },
     "metadata": {},
     "output_type": "display_data"
    }
   ],
   "source": [
    "round(FieldGoals/Games, 1) # 1 means 1 steps after point"
   ]
  },
  {
   "cell_type": "code",
   "execution_count": 33,
   "id": "christian-manhattan",
   "metadata": {},
   "outputs": [
    {
     "data": {
      "text/html": [
       "<table>\n",
       "<thead><tr><th></th><th scope=col>2005</th><th scope=col>2006</th><th scope=col>2007</th><th scope=col>2008</th><th scope=col>2009</th><th scope=col>2010</th><th scope=col>2011</th><th scope=col>2012</th><th scope=col>2013</th><th scope=col>2014</th></tr></thead>\n",
       "<tbody>\n",
       "\t<tr><th scope=row>KobeBryant</th><td>12.225000</td><td>10.558442</td><td> 9.451220</td><td> 9.756098</td><td> 9.808219</td><td>9.024390 </td><td> 9.896552</td><td> 9.461538</td><td> 5.166667</td><td>7.600000 </td></tr>\n",
       "\t<tr><th scope=row>JoeJohnson</th><td> 7.707317</td><td> 9.403509</td><td> 7.890244</td><td> 7.848101</td><td> 8.355263</td><td>7.138889 </td><td> 7.050000</td><td> 6.180556</td><td> 5.848101</td><td>5.575000 </td></tr>\n",
       "\t<tr><th scope=row>LeBronJames</th><td>11.075949</td><td> 9.897436</td><td>10.586667</td><td> 9.740741</td><td>10.105263</td><td>9.594937 </td><td>10.016129</td><td>10.065789</td><td> 9.961039</td><td>9.043478 </td></tr>\n",
       "\t<tr><th scope=row>CarmeloAnthony</th><td> 9.450000</td><td>10.630769</td><td> 9.454545</td><td> 8.106061</td><td> 9.971014</td><td>8.883117 </td><td> 8.018182</td><td> 9.985075</td><td> 9.649351</td><td>8.950000 </td></tr>\n",
       "\t<tr><th scope=row>DwightHoward</th><td> 5.707317</td><td> 6.414634</td><td> 7.109756</td><td> 7.088608</td><td> 6.219512</td><td>7.935897 </td><td> 7.703704</td><td> 6.184211</td><td> 6.661972</td><td>6.121951 </td></tr>\n",
       "\t<tr><th scope=row>ChrisBosh</th><td> 7.842857</td><td> 7.869565</td><td> 7.567164</td><td> 7.987013</td><td> 8.571429</td><td>6.805195 </td><td> 6.894737</td><td> 6.554054</td><td> 6.227848</td><td>7.795455 </td></tr>\n",
       "\t<tr><th scope=row>ChrisPaul</th><td> 5.217949</td><td> 5.953125</td><td> 7.875000</td><td> 8.089744</td><td> 6.977778</td><td>5.375000 </td><td> 7.083333</td><td> 5.885714</td><td> 6.548387</td><td>6.926829 </td></tr>\n",
       "\t<tr><th scope=row>KevinDurant</th><td> 8.742857</td><td> 8.742857</td><td> 7.337500</td><td> 8.932432</td><td> 9.682927</td><td>9.115385 </td><td> 9.742424</td><td> 9.024691</td><td>10.481481</td><td>8.814815 </td></tr>\n",
       "\t<tr><th scope=row>DerrickRose</th><td> 5.200000</td><td> 5.200000</td><td> 5.200000</td><td> 7.086420</td><td> 8.615385</td><td>8.777778 </td><td> 7.743590</td><td>      NaN</td><td> 5.800000</td><td>6.627451 </td></tr>\n",
       "\t<tr><th scope=row>DwayneWade</th><td> 9.320000</td><td> 9.254902</td><td> 8.607843</td><td>10.810127</td><td> 9.337662</td><td>9.105263 </td><td> 8.489796</td><td> 8.246377</td><td> 7.685185</td><td>8.209677 </td></tr>\n",
       "</tbody>\n",
       "</table>\n"
      ],
      "text/latex": [
       "\\begin{tabular}{r|llllllllll}\n",
       "  & 2005 & 2006 & 2007 & 2008 & 2009 & 2010 & 2011 & 2012 & 2013 & 2014\\\\\n",
       "\\hline\n",
       "\tKobeBryant & 12.225000 & 10.558442 &  9.451220 &  9.756098 &  9.808219 & 9.024390  &  9.896552 &  9.461538 &  5.166667 & 7.600000 \\\\\n",
       "\tJoeJohnson &  7.707317 &  9.403509 &  7.890244 &  7.848101 &  8.355263 & 7.138889  &  7.050000 &  6.180556 &  5.848101 & 5.575000 \\\\\n",
       "\tLeBronJames & 11.075949 &  9.897436 & 10.586667 &  9.740741 & 10.105263 & 9.594937  & 10.016129 & 10.065789 &  9.961039 & 9.043478 \\\\\n",
       "\tCarmeloAnthony &  9.450000 & 10.630769 &  9.454545 &  8.106061 &  9.971014 & 8.883117  &  8.018182 &  9.985075 &  9.649351 & 8.950000 \\\\\n",
       "\tDwightHoward &  5.707317 &  6.414634 &  7.109756 &  7.088608 &  6.219512 & 7.935897  &  7.703704 &  6.184211 &  6.661972 & 6.121951 \\\\\n",
       "\tChrisBosh &  7.842857 &  7.869565 &  7.567164 &  7.987013 &  8.571429 & 6.805195  &  6.894737 &  6.554054 &  6.227848 & 7.795455 \\\\\n",
       "\tChrisPaul &  5.217949 &  5.953125 &  7.875000 &  8.089744 &  6.977778 & 5.375000  &  7.083333 &  5.885714 &  6.548387 & 6.926829 \\\\\n",
       "\tKevinDurant &  8.742857 &  8.742857 &  7.337500 &  8.932432 &  9.682927 & 9.115385  &  9.742424 &  9.024691 & 10.481481 & 8.814815 \\\\\n",
       "\tDerrickRose &  5.200000 &  5.200000 &  5.200000 &  7.086420 &  8.615385 & 8.777778  &  7.743590 &       NaN &  5.800000 & 6.627451 \\\\\n",
       "\tDwayneWade &  9.320000 &  9.254902 &  8.607843 & 10.810127 &  9.337662 & 9.105263  &  8.489796 &  8.246377 &  7.685185 & 8.209677 \\\\\n",
       "\\end{tabular}\n"
      ],
      "text/markdown": [
       "\n",
       "| <!--/--> | 2005 | 2006 | 2007 | 2008 | 2009 | 2010 | 2011 | 2012 | 2013 | 2014 |\n",
       "|---|---|---|---|---|---|---|---|---|---|---|\n",
       "| KobeBryant | 12.225000 | 10.558442 |  9.451220 |  9.756098 |  9.808219 | 9.024390  |  9.896552 |  9.461538 |  5.166667 | 7.600000  |\n",
       "| JoeJohnson |  7.707317 |  9.403509 |  7.890244 |  7.848101 |  8.355263 | 7.138889  |  7.050000 |  6.180556 |  5.848101 | 5.575000  |\n",
       "| LeBronJames | 11.075949 |  9.897436 | 10.586667 |  9.740741 | 10.105263 | 9.594937  | 10.016129 | 10.065789 |  9.961039 | 9.043478  |\n",
       "| CarmeloAnthony |  9.450000 | 10.630769 |  9.454545 |  8.106061 |  9.971014 | 8.883117  |  8.018182 |  9.985075 |  9.649351 | 8.950000  |\n",
       "| DwightHoward |  5.707317 |  6.414634 |  7.109756 |  7.088608 |  6.219512 | 7.935897  |  7.703704 |  6.184211 |  6.661972 | 6.121951  |\n",
       "| ChrisBosh |  7.842857 |  7.869565 |  7.567164 |  7.987013 |  8.571429 | 6.805195  |  6.894737 |  6.554054 |  6.227848 | 7.795455  |\n",
       "| ChrisPaul |  5.217949 |  5.953125 |  7.875000 |  8.089744 |  6.977778 | 5.375000  |  7.083333 |  5.885714 |  6.548387 | 6.926829  |\n",
       "| KevinDurant |  8.742857 |  8.742857 |  7.337500 |  8.932432 |  9.682927 | 9.115385  |  9.742424 |  9.024691 | 10.481481 | 8.814815  |\n",
       "| DerrickRose |  5.200000 |  5.200000 |  5.200000 |  7.086420 |  8.615385 | 8.777778  |  7.743590 |       NaN |  5.800000 | 6.627451  |\n",
       "| DwayneWade |  9.320000 |  9.254902 |  8.607843 | 10.810127 |  9.337662 | 9.105263  |  8.489796 |  8.246377 |  7.685185 | 8.209677  |\n",
       "\n"
      ],
      "text/plain": [
       "               2005      2006      2007      2008      2009      2010    \n",
       "KobeBryant     12.225000 10.558442  9.451220  9.756098  9.808219 9.024390\n",
       "JoeJohnson      7.707317  9.403509  7.890244  7.848101  8.355263 7.138889\n",
       "LeBronJames    11.075949  9.897436 10.586667  9.740741 10.105263 9.594937\n",
       "CarmeloAnthony  9.450000 10.630769  9.454545  8.106061  9.971014 8.883117\n",
       "DwightHoward    5.707317  6.414634  7.109756  7.088608  6.219512 7.935897\n",
       "ChrisBosh       7.842857  7.869565  7.567164  7.987013  8.571429 6.805195\n",
       "ChrisPaul       5.217949  5.953125  7.875000  8.089744  6.977778 5.375000\n",
       "KevinDurant     8.742857  8.742857  7.337500  8.932432  9.682927 9.115385\n",
       "DerrickRose     5.200000  5.200000  5.200000  7.086420  8.615385 8.777778\n",
       "DwayneWade      9.320000  9.254902  8.607843 10.810127  9.337662 9.105263\n",
       "               2011      2012      2013      2014    \n",
       "KobeBryant      9.896552  9.461538  5.166667 7.600000\n",
       "JoeJohnson      7.050000  6.180556  5.848101 5.575000\n",
       "LeBronJames    10.016129 10.065789  9.961039 9.043478\n",
       "CarmeloAnthony  8.018182  9.985075  9.649351 8.950000\n",
       "DwightHoward    7.703704  6.184211  6.661972 6.121951\n",
       "ChrisBosh       6.894737  6.554054  6.227848 7.795455\n",
       "ChrisPaul       7.083333  5.885714  6.548387 6.926829\n",
       "KevinDurant     9.742424  9.024691 10.481481 8.814815\n",
       "DerrickRose     7.743590       NaN  5.800000 6.627451\n",
       "DwayneWade      8.489796  8.246377  7.685185 8.209677"
      ]
     },
     "metadata": {},
     "output_type": "display_data"
    }
   ],
   "source": [
    "FieldGoals/Games"
   ]
  },
  {
   "cell_type": "code",
   "execution_count": null,
   "id": "prepared-marketplace",
   "metadata": {},
   "outputs": [],
   "source": [
    "\n",
    "#Field Goal Attempts\n",
    "KobeBryant_FGA <- c(2173,1757,1690,1712,1569,1639,1336,1595,73,713)\n",
    "JoeJohnson_FGA <- c(1395,1139,1497,1420,1386,1161,931,1052,1018,1025)\n",
    "LeBronJames_FGA <- c(1823,1621,1642,1613,1528,1485,1169,1354,1353,1279)\n",
    "CarmeloAnthony_FGA <- c(1572,1453,1481,1207,1502,1503,1025,1489,1643,806)\n",
    "DwightHoward_FGA <- c(881,873,974,979,834,1044,726,813,800,423)\n",
    "ChrisBosh_FGA <- c(1087,1094,1027,1263,1158,1056,807,907,953,745)\n",
    "ChrisPaul_FGA <- c(947,871,1291,1255,637,928,890,856,870,1170)\n",
    "KevinDurant_FGA <- c(647,647,1366,1390,1668,1538,1297,1433,1688,467)\n",
    "DerrickRose_FGA <- c(436,436,436,1208,1373,1597,695,0,164,835)\n",
    "DwayneWade_FGA <- c(1413,962,937,1739,1511,1384,837,1093,761,1084)\n",
    "#Matrix\n",
    "FieldGoalAttempts <- rbind(KobeBryant_FGA, JoeJohnson_FGA, LeBronJames_FGA, CarmeloAnthony_FGA, DwightHoward_FGA, ChrisBosh_FGA, ChrisPaul_FGA, KevinDurant_FGA, DerrickRose_FGA, DwayneWade_FGA)\n",
    "rm(KobeBryant_FGA, JoeJohnson_FGA, LeBronJames_FGA, CarmeloAnthony_FGA, DwightHoward_FGA, ChrisBosh_FGA, ChrisPaul_FGA, KevinDurant_FGA, DerrickRose_FGA, DwayneWade_FGA)\n",
    "colnames(FieldGoalAttempts) <- Seasons\n",
    "rownames(FieldGoalAttempts) <- Players"
   ]
  },
  {
   "cell_type": "code",
   "execution_count": 5,
   "id": "norwegian-edward",
   "metadata": {},
   "outputs": [],
   "source": [
    "#Points\n",
    "KobeBryant_PTS <- c(2832,2430,2323,2201,1970,2078,1616,2133,83,782)\n",
    "JoeJohnson_PTS <- c(1653,1426,1779,1688,1619,1312,1129,1170,1245,1154)\n",
    "LeBronJames_PTS <- c(2478,2132,2250,2304,2258,2111,1683,2036,2089,1743)\n",
    "CarmeloAnthony_PTS <- c(2122,1881,1978,1504,1943,1970,1245,1920,2112,966)\n",
    "DwightHoward_PTS <- c(1292,1443,1695,1624,1503,1784,1113,1296,1297,646)\n",
    "ChrisBosh_PTS <- c(1572,1561,1496,1746,1678,1438,1025,1232,1281,928)\n",
    "ChrisPaul_PTS <- c(1258,1104,1684,1781,841,1268,1189,1186,1185,1564)\n",
    "KevinDurant_PTS <- c(903,903,1624,1871,2472,2161,1850,2280,2593,686)\n",
    "DerrickRose_PTS <- c(597,597,597,1361,1619,2026,852,0,159,904)\n",
    "DwayneWade_PTS <- c(2040,1397,1254,2386,2045,1941,1082,1463,1028,1331)\n",
    "#Matrix\n",
    "Points <- rbind(KobeBryant_PTS, JoeJohnson_PTS, LeBronJames_PTS, CarmeloAnthony_PTS, DwightHoward_PTS, ChrisBosh_PTS, ChrisPaul_PTS, KevinDurant_PTS, DerrickRose_PTS, DwayneWade_PTS)\n",
    "rm(KobeBryant_PTS, JoeJohnson_PTS, LeBronJames_PTS, CarmeloAnthony_PTS, DwightHoward_PTS, ChrisBosh_PTS, ChrisPaul_PTS, KevinDurant_PTS, DerrickRose_PTS, DwayneWade_PTS)\n",
    "colnames(Points) <- Seasons\n",
    "rownames(Points) <- Players"
   ]
  },
  {
   "cell_type": "code",
   "execution_count": 37,
   "id": "removable-migration",
   "metadata": {},
   "outputs": [
    {
     "data": {
      "text/html": [
       "<table>\n",
       "<thead><tr><th></th><th scope=col>2005</th><th scope=col>2006</th><th scope=col>2007</th><th scope=col>2008</th><th scope=col>2009</th><th scope=col>2010</th><th scope=col>2011</th><th scope=col>2012</th><th scope=col>2013</th><th scope=col>2014</th></tr></thead>\n",
       "<tbody>\n",
       "\t<tr><th scope=row>KobeBryant</th><td>41 </td><td>41 </td><td>39 </td><td>36 </td><td>39 </td><td>34 </td><td>38 </td><td> 39</td><td>30 </td><td>34 </td></tr>\n",
       "\t<tr><th scope=row>JoeJohnson</th><td>41 </td><td>41 </td><td>41 </td><td>40 </td><td>38 </td><td>35 </td><td>35 </td><td> 37</td><td>33 </td><td>35 </td></tr>\n",
       "\t<tr><th scope=row>LeBronJames</th><td>43 </td><td>41 </td><td>40 </td><td>38 </td><td>39 </td><td>39 </td><td>38 </td><td> 38</td><td>38 </td><td>36 </td></tr>\n",
       "\t<tr><th scope=row>CarmeloAnthony</th><td>37 </td><td>38 </td><td>36 </td><td>34 </td><td>38 </td><td>36 </td><td>34 </td><td> 37</td><td>39 </td><td>36 </td></tr>\n",
       "\t<tr><th scope=row>DwightHoward</th><td>37 </td><td>37 </td><td>38 </td><td>36 </td><td>35 </td><td>38 </td><td>38 </td><td> 36</td><td>34 </td><td>30 </td></tr>\n",
       "\t<tr><th scope=row>ChrisBosh</th><td>39 </td><td>39 </td><td>36 </td><td>38 </td><td>36 </td><td>36 </td><td>35 </td><td> 33</td><td>32 </td><td>35 </td></tr>\n",
       "\t<tr><th scope=row>ChrisPaul</th><td>36 </td><td>37 </td><td>38 </td><td>38 </td><td>38 </td><td>36 </td><td>36 </td><td> 33</td><td>35 </td><td>35 </td></tr>\n",
       "\t<tr><th scope=row>KevinDurant</th><td>36 </td><td>36 </td><td>35 </td><td>39 </td><td>40 </td><td>39 </td><td>39 </td><td> 39</td><td>39 </td><td>34 </td></tr>\n",
       "\t<tr><th scope=row>DerrickRose</th><td>29 </td><td>29 </td><td>29 </td><td>37 </td><td>37 </td><td>37 </td><td>35 </td><td>NaN</td><td>31 </td><td>30 </td></tr>\n",
       "\t<tr><th scope=row>DwayneWade</th><td>39 </td><td>38 </td><td>38 </td><td>39 </td><td>36 </td><td>37 </td><td>33 </td><td> 35</td><td>33 </td><td>32 </td></tr>\n",
       "</tbody>\n",
       "</table>\n"
      ],
      "text/latex": [
       "\\begin{tabular}{r|llllllllll}\n",
       "  & 2005 & 2006 & 2007 & 2008 & 2009 & 2010 & 2011 & 2012 & 2013 & 2014\\\\\n",
       "\\hline\n",
       "\tKobeBryant & 41  & 41  & 39  & 36  & 39  & 34  & 38  &  39 & 30  & 34 \\\\\n",
       "\tJoeJohnson & 41  & 41  & 41  & 40  & 38  & 35  & 35  &  37 & 33  & 35 \\\\\n",
       "\tLeBronJames & 43  & 41  & 40  & 38  & 39  & 39  & 38  &  38 & 38  & 36 \\\\\n",
       "\tCarmeloAnthony & 37  & 38  & 36  & 34  & 38  & 36  & 34  &  37 & 39  & 36 \\\\\n",
       "\tDwightHoward & 37  & 37  & 38  & 36  & 35  & 38  & 38  &  36 & 34  & 30 \\\\\n",
       "\tChrisBosh & 39  & 39  & 36  & 38  & 36  & 36  & 35  &  33 & 32  & 35 \\\\\n",
       "\tChrisPaul & 36  & 37  & 38  & 38  & 38  & 36  & 36  &  33 & 35  & 35 \\\\\n",
       "\tKevinDurant & 36  & 36  & 35  & 39  & 40  & 39  & 39  &  39 & 39  & 34 \\\\\n",
       "\tDerrickRose & 29  & 29  & 29  & 37  & 37  & 37  & 35  & NaN & 31  & 30 \\\\\n",
       "\tDwayneWade & 39  & 38  & 38  & 39  & 36  & 37  & 33  &  35 & 33  & 32 \\\\\n",
       "\\end{tabular}\n"
      ],
      "text/markdown": [
       "\n",
       "| <!--/--> | 2005 | 2006 | 2007 | 2008 | 2009 | 2010 | 2011 | 2012 | 2013 | 2014 |\n",
       "|---|---|---|---|---|---|---|---|---|---|---|\n",
       "| KobeBryant | 41  | 41  | 39  | 36  | 39  | 34  | 38  |  39 | 30  | 34  |\n",
       "| JoeJohnson | 41  | 41  | 41  | 40  | 38  | 35  | 35  |  37 | 33  | 35  |\n",
       "| LeBronJames | 43  | 41  | 40  | 38  | 39  | 39  | 38  |  38 | 38  | 36  |\n",
       "| CarmeloAnthony | 37  | 38  | 36  | 34  | 38  | 36  | 34  |  37 | 39  | 36  |\n",
       "| DwightHoward | 37  | 37  | 38  | 36  | 35  | 38  | 38  |  36 | 34  | 30  |\n",
       "| ChrisBosh | 39  | 39  | 36  | 38  | 36  | 36  | 35  |  33 | 32  | 35  |\n",
       "| ChrisPaul | 36  | 37  | 38  | 38  | 38  | 36  | 36  |  33 | 35  | 35  |\n",
       "| KevinDurant | 36  | 36  | 35  | 39  | 40  | 39  | 39  |  39 | 39  | 34  |\n",
       "| DerrickRose | 29  | 29  | 29  | 37  | 37  | 37  | 35  | NaN | 31  | 30  |\n",
       "| DwayneWade | 39  | 38  | 38  | 39  | 36  | 37  | 33  |  35 | 33  | 32  |\n",
       "\n"
      ],
      "text/plain": [
       "               2005 2006 2007 2008 2009 2010 2011 2012 2013 2014\n",
       "KobeBryant     41   41   39   36   39   34   38    39  30   34  \n",
       "JoeJohnson     41   41   41   40   38   35   35    37  33   35  \n",
       "LeBronJames    43   41   40   38   39   39   38    38  38   36  \n",
       "CarmeloAnthony 37   38   36   34   38   36   34    37  39   36  \n",
       "DwightHoward   37   37   38   36   35   38   38    36  34   30  \n",
       "ChrisBosh      39   39   36   38   36   36   35    33  32   35  \n",
       "ChrisPaul      36   37   38   38   38   36   36    33  35   35  \n",
       "KevinDurant    36   36   35   39   40   39   39    39  39   34  \n",
       "DerrickRose    29   29   29   37   37   37   35   NaN  31   30  \n",
       "DwayneWade     39   38   38   39   36   37   33    35  33   32  "
      ]
     },
     "metadata": {},
     "output_type": "display_data"
    }
   ],
   "source": [
    "round(MinutesPlayed/Games)"
   ]
  },
  {
   "cell_type": "code",
   "execution_count": 39,
   "id": "affected-manual",
   "metadata": {},
   "outputs": [
    {
     "data": {
      "text/html": [
       "<table>\n",
       "<thead><tr><th></th><th scope=col>2005</th><th scope=col>2006</th><th scope=col>2007</th><th scope=col>2008</th><th scope=col>2009</th><th scope=col>2010</th><th scope=col>2011</th><th scope=col>2012</th><th scope=col>2013</th><th scope=col>2014</th></tr></thead>\n",
       "<tbody>\n",
       "\t<tr><th scope=row>KobeBryant</th><td>0.45</td><td>0.46</td><td>0.46</td><td>0.47</td><td>0.46</td><td>0.45</td><td>0.43</td><td>0.46</td><td>0.42</td><td>0.37</td></tr>\n",
       "\t<tr><th scope=row>JoeJohnson</th><td>0.45</td><td>0.47</td><td>0.43</td><td>0.44</td><td>0.46</td><td>0.44</td><td>0.45</td><td>0.42</td><td>0.45</td><td>0.44</td></tr>\n",
       "\t<tr><th scope=row>LeBronJames</th><td>0.48</td><td>0.48</td><td>0.48</td><td>0.49</td><td>0.50</td><td>0.51</td><td>0.53</td><td>0.56</td><td>0.57</td><td>0.49</td></tr>\n",
       "\t<tr><th scope=row>CarmeloAnthony</th><td>0.48</td><td>0.48</td><td>0.49</td><td>0.44</td><td>0.46</td><td>0.46</td><td>0.43</td><td>0.45</td><td>0.45</td><td>0.44</td></tr>\n",
       "\t<tr><th scope=row>DwightHoward</th><td>0.53</td><td>0.60</td><td>0.60</td><td>0.57</td><td>0.61</td><td>0.59</td><td>0.57</td><td>0.58</td><td>0.59</td><td>0.59</td></tr>\n",
       "\t<tr><th scope=row>ChrisBosh</th><td>0.51</td><td>0.50</td><td>0.49</td><td>0.49</td><td>0.52</td><td>0.50</td><td>0.49</td><td>0.53</td><td>0.52</td><td>0.46</td></tr>\n",
       "\t<tr><th scope=row>ChrisPaul</th><td>0.43</td><td>0.44</td><td>0.49</td><td>0.50</td><td>0.49</td><td>0.46</td><td>0.48</td><td>0.48</td><td>0.47</td><td>0.49</td></tr>\n",
       "\t<tr><th scope=row>KevinDurant</th><td>0.47</td><td>0.47</td><td>0.43</td><td>0.48</td><td>0.48</td><td>0.46</td><td>0.50</td><td>0.51</td><td>0.50</td><td>0.51</td></tr>\n",
       "\t<tr><th scope=row>DerrickRose</th><td>0.48</td><td>0.48</td><td>0.48</td><td>0.48</td><td>0.49</td><td>0.45</td><td>0.43</td><td> NaN</td><td>0.35</td><td>0.40</td></tr>\n",
       "\t<tr><th scope=row>DwayneWade</th><td>0.49</td><td>0.49</td><td>0.47</td><td>0.49</td><td>0.48</td><td>0.50</td><td>0.50</td><td>0.52</td><td>0.55</td><td>0.47</td></tr>\n",
       "</tbody>\n",
       "</table>\n"
      ],
      "text/latex": [
       "\\begin{tabular}{r|llllllllll}\n",
       "  & 2005 & 2006 & 2007 & 2008 & 2009 & 2010 & 2011 & 2012 & 2013 & 2014\\\\\n",
       "\\hline\n",
       "\tKobeBryant & 0.45 & 0.46 & 0.46 & 0.47 & 0.46 & 0.45 & 0.43 & 0.46 & 0.42 & 0.37\\\\\n",
       "\tJoeJohnson & 0.45 & 0.47 & 0.43 & 0.44 & 0.46 & 0.44 & 0.45 & 0.42 & 0.45 & 0.44\\\\\n",
       "\tLeBronJames & 0.48 & 0.48 & 0.48 & 0.49 & 0.50 & 0.51 & 0.53 & 0.56 & 0.57 & 0.49\\\\\n",
       "\tCarmeloAnthony & 0.48 & 0.48 & 0.49 & 0.44 & 0.46 & 0.46 & 0.43 & 0.45 & 0.45 & 0.44\\\\\n",
       "\tDwightHoward & 0.53 & 0.60 & 0.60 & 0.57 & 0.61 & 0.59 & 0.57 & 0.58 & 0.59 & 0.59\\\\\n",
       "\tChrisBosh & 0.51 & 0.50 & 0.49 & 0.49 & 0.52 & 0.50 & 0.49 & 0.53 & 0.52 & 0.46\\\\\n",
       "\tChrisPaul & 0.43 & 0.44 & 0.49 & 0.50 & 0.49 & 0.46 & 0.48 & 0.48 & 0.47 & 0.49\\\\\n",
       "\tKevinDurant & 0.47 & 0.47 & 0.43 & 0.48 & 0.48 & 0.46 & 0.50 & 0.51 & 0.50 & 0.51\\\\\n",
       "\tDerrickRose & 0.48 & 0.48 & 0.48 & 0.48 & 0.49 & 0.45 & 0.43 &  NaN & 0.35 & 0.40\\\\\n",
       "\tDwayneWade & 0.49 & 0.49 & 0.47 & 0.49 & 0.48 & 0.50 & 0.50 & 0.52 & 0.55 & 0.47\\\\\n",
       "\\end{tabular}\n"
      ],
      "text/markdown": [
       "\n",
       "| <!--/--> | 2005 | 2006 | 2007 | 2008 | 2009 | 2010 | 2011 | 2012 | 2013 | 2014 |\n",
       "|---|---|---|---|---|---|---|---|---|---|---|\n",
       "| KobeBryant | 0.45 | 0.46 | 0.46 | 0.47 | 0.46 | 0.45 | 0.43 | 0.46 | 0.42 | 0.37 |\n",
       "| JoeJohnson | 0.45 | 0.47 | 0.43 | 0.44 | 0.46 | 0.44 | 0.45 | 0.42 | 0.45 | 0.44 |\n",
       "| LeBronJames | 0.48 | 0.48 | 0.48 | 0.49 | 0.50 | 0.51 | 0.53 | 0.56 | 0.57 | 0.49 |\n",
       "| CarmeloAnthony | 0.48 | 0.48 | 0.49 | 0.44 | 0.46 | 0.46 | 0.43 | 0.45 | 0.45 | 0.44 |\n",
       "| DwightHoward | 0.53 | 0.60 | 0.60 | 0.57 | 0.61 | 0.59 | 0.57 | 0.58 | 0.59 | 0.59 |\n",
       "| ChrisBosh | 0.51 | 0.50 | 0.49 | 0.49 | 0.52 | 0.50 | 0.49 | 0.53 | 0.52 | 0.46 |\n",
       "| ChrisPaul | 0.43 | 0.44 | 0.49 | 0.50 | 0.49 | 0.46 | 0.48 | 0.48 | 0.47 | 0.49 |\n",
       "| KevinDurant | 0.47 | 0.47 | 0.43 | 0.48 | 0.48 | 0.46 | 0.50 | 0.51 | 0.50 | 0.51 |\n",
       "| DerrickRose | 0.48 | 0.48 | 0.48 | 0.48 | 0.49 | 0.45 | 0.43 |  NaN | 0.35 | 0.40 |\n",
       "| DwayneWade | 0.49 | 0.49 | 0.47 | 0.49 | 0.48 | 0.50 | 0.50 | 0.52 | 0.55 | 0.47 |\n",
       "\n"
      ],
      "text/plain": [
       "               2005 2006 2007 2008 2009 2010 2011 2012 2013 2014\n",
       "KobeBryant     0.45 0.46 0.46 0.47 0.46 0.45 0.43 0.46 0.42 0.37\n",
       "JoeJohnson     0.45 0.47 0.43 0.44 0.46 0.44 0.45 0.42 0.45 0.44\n",
       "LeBronJames    0.48 0.48 0.48 0.49 0.50 0.51 0.53 0.56 0.57 0.49\n",
       "CarmeloAnthony 0.48 0.48 0.49 0.44 0.46 0.46 0.43 0.45 0.45 0.44\n",
       "DwightHoward   0.53 0.60 0.60 0.57 0.61 0.59 0.57 0.58 0.59 0.59\n",
       "ChrisBosh      0.51 0.50 0.49 0.49 0.52 0.50 0.49 0.53 0.52 0.46\n",
       "ChrisPaul      0.43 0.44 0.49 0.50 0.49 0.46 0.48 0.48 0.47 0.49\n",
       "KevinDurant    0.47 0.47 0.43 0.48 0.48 0.46 0.50 0.51 0.50 0.51\n",
       "DerrickRose    0.48 0.48 0.48 0.48 0.49 0.45 0.43  NaN 0.35 0.40\n",
       "DwayneWade     0.49 0.49 0.47 0.49 0.48 0.50 0.50 0.52 0.55 0.47"
      ]
     },
     "metadata": {},
     "output_type": "display_data"
    }
   ],
   "source": [
    "round(FieldGoals/FieldGoalAttempts, 2)"
   ]
  },
  {
   "cell_type": "code",
   "execution_count": 43,
   "id": "champion-centre",
   "metadata": {},
   "outputs": [
    {
     "data": {
      "text/html": [
       "<table>\n",
       "<thead><tr><th></th><th scope=col>2005</th><th scope=col>2006</th><th scope=col>2007</th><th scope=col>2008</th><th scope=col>2009</th><th scope=col>2010</th><th scope=col>2011</th><th scope=col>2012</th><th scope=col>2013</th><th scope=col>2014</th></tr></thead>\n",
       "<tbody>\n",
       "\t<tr><th scope=row>KobeBryant</th><td>2173</td><td>1757</td><td>1690</td><td>1712</td><td>1569</td><td>1639</td><td>1336</td><td>1595</td><td>  73</td><td> 713</td></tr>\n",
       "\t<tr><th scope=row>JoeJohnson</th><td>1395</td><td>1139</td><td>1497</td><td>1420</td><td>1386</td><td>1161</td><td> 931</td><td>1052</td><td>1018</td><td>1025</td></tr>\n",
       "\t<tr><th scope=row>LeBronJames</th><td>1823</td><td>1621</td><td>1642</td><td>1613</td><td>1528</td><td>1485</td><td>1169</td><td>1354</td><td>1353</td><td>1279</td></tr>\n",
       "\t<tr><th scope=row>CarmeloAnthony</th><td>1572</td><td>1453</td><td>1481</td><td>1207</td><td>1502</td><td>1503</td><td>1025</td><td>1489</td><td>1643</td><td> 806</td></tr>\n",
       "\t<tr><th scope=row>DwightHoward</th><td> 881</td><td> 873</td><td> 974</td><td> 979</td><td> 834</td><td>1044</td><td> 726</td><td> 813</td><td> 800</td><td> 423</td></tr>\n",
       "\t<tr><th scope=row>ChrisBosh</th><td>1087</td><td>1094</td><td>1027</td><td>1263</td><td>1158</td><td>1056</td><td> 807</td><td> 907</td><td> 953</td><td> 745</td></tr>\n",
       "\t<tr><th scope=row>ChrisPaul</th><td> 947</td><td> 871</td><td>1291</td><td>1255</td><td> 637</td><td> 928</td><td> 890</td><td> 856</td><td> 870</td><td>1170</td></tr>\n",
       "\t<tr><th scope=row>KevinDurant</th><td> 647</td><td> 647</td><td>1366</td><td>1390</td><td>1668</td><td>1538</td><td>1297</td><td>1433</td><td>1688</td><td> 467</td></tr>\n",
       "\t<tr><th scope=row>DerrickRose</th><td> 436</td><td> 436</td><td> 436</td><td>1208</td><td>1373</td><td>1597</td><td> 695</td><td>   0</td><td> 164</td><td> 835</td></tr>\n",
       "\t<tr><th scope=row>DwayneWade</th><td>1413</td><td> 962</td><td> 937</td><td>1739</td><td>1511</td><td>1384</td><td> 837</td><td>1093</td><td> 761</td><td>1084</td></tr>\n",
       "</tbody>\n",
       "</table>\n"
      ],
      "text/latex": [
       "\\begin{tabular}{r|llllllllll}\n",
       "  & 2005 & 2006 & 2007 & 2008 & 2009 & 2010 & 2011 & 2012 & 2013 & 2014\\\\\n",
       "\\hline\n",
       "\tKobeBryant & 2173 & 1757 & 1690 & 1712 & 1569 & 1639 & 1336 & 1595 &   73 &  713\\\\\n",
       "\tJoeJohnson & 1395 & 1139 & 1497 & 1420 & 1386 & 1161 &  931 & 1052 & 1018 & 1025\\\\\n",
       "\tLeBronJames & 1823 & 1621 & 1642 & 1613 & 1528 & 1485 & 1169 & 1354 & 1353 & 1279\\\\\n",
       "\tCarmeloAnthony & 1572 & 1453 & 1481 & 1207 & 1502 & 1503 & 1025 & 1489 & 1643 &  806\\\\\n",
       "\tDwightHoward &  881 &  873 &  974 &  979 &  834 & 1044 &  726 &  813 &  800 &  423\\\\\n",
       "\tChrisBosh & 1087 & 1094 & 1027 & 1263 & 1158 & 1056 &  807 &  907 &  953 &  745\\\\\n",
       "\tChrisPaul &  947 &  871 & 1291 & 1255 &  637 &  928 &  890 &  856 &  870 & 1170\\\\\n",
       "\tKevinDurant &  647 &  647 & 1366 & 1390 & 1668 & 1538 & 1297 & 1433 & 1688 &  467\\\\\n",
       "\tDerrickRose &  436 &  436 &  436 & 1208 & 1373 & 1597 &  695 &    0 &  164 &  835\\\\\n",
       "\tDwayneWade & 1413 &  962 &  937 & 1739 & 1511 & 1384 &  837 & 1093 &  761 & 1084\\\\\n",
       "\\end{tabular}\n"
      ],
      "text/markdown": [
       "\n",
       "| <!--/--> | 2005 | 2006 | 2007 | 2008 | 2009 | 2010 | 2011 | 2012 | 2013 | 2014 |\n",
       "|---|---|---|---|---|---|---|---|---|---|---|\n",
       "| KobeBryant | 2173 | 1757 | 1690 | 1712 | 1569 | 1639 | 1336 | 1595 |   73 |  713 |\n",
       "| JoeJohnson | 1395 | 1139 | 1497 | 1420 | 1386 | 1161 |  931 | 1052 | 1018 | 1025 |\n",
       "| LeBronJames | 1823 | 1621 | 1642 | 1613 | 1528 | 1485 | 1169 | 1354 | 1353 | 1279 |\n",
       "| CarmeloAnthony | 1572 | 1453 | 1481 | 1207 | 1502 | 1503 | 1025 | 1489 | 1643 |  806 |\n",
       "| DwightHoward |  881 |  873 |  974 |  979 |  834 | 1044 |  726 |  813 |  800 |  423 |\n",
       "| ChrisBosh | 1087 | 1094 | 1027 | 1263 | 1158 | 1056 |  807 |  907 |  953 |  745 |\n",
       "| ChrisPaul |  947 |  871 | 1291 | 1255 |  637 |  928 |  890 |  856 |  870 | 1170 |\n",
       "| KevinDurant |  647 |  647 | 1366 | 1390 | 1668 | 1538 | 1297 | 1433 | 1688 |  467 |\n",
       "| DerrickRose |  436 |  436 |  436 | 1208 | 1373 | 1597 |  695 |    0 |  164 |  835 |\n",
       "| DwayneWade | 1413 |  962 |  937 | 1739 | 1511 | 1384 |  837 | 1093 |  761 | 1084 |\n",
       "\n"
      ],
      "text/plain": [
       "               2005 2006 2007 2008 2009 2010 2011 2012 2013 2014\n",
       "KobeBryant     2173 1757 1690 1712 1569 1639 1336 1595   73  713\n",
       "JoeJohnson     1395 1139 1497 1420 1386 1161  931 1052 1018 1025\n",
       "LeBronJames    1823 1621 1642 1613 1528 1485 1169 1354 1353 1279\n",
       "CarmeloAnthony 1572 1453 1481 1207 1502 1503 1025 1489 1643  806\n",
       "DwightHoward    881  873  974  979  834 1044  726  813  800  423\n",
       "ChrisBosh      1087 1094 1027 1263 1158 1056  807  907  953  745\n",
       "ChrisPaul       947  871 1291 1255  637  928  890  856  870 1170\n",
       "KevinDurant     647  647 1366 1390 1668 1538 1297 1433 1688  467\n",
       "DerrickRose     436  436  436 1208 1373 1597  695    0  164  835\n",
       "DwayneWade     1413  962  937 1739 1511 1384  837 1093  761 1084"
      ]
     },
     "metadata": {},
     "output_type": "display_data"
    }
   ],
   "source": [
    "FieldGoalAttempts"
   ]
  },
  {
   "cell_type": "code",
   "execution_count": 55,
   "id": "nonprofit-entry",
   "metadata": {},
   "outputs": [
    {
     "data": {
      "image/png": "[encoded data removed]",
      "text/plain": [
       "plot without title"
      ]
     },
     "metadata": {},
     "output_type": "display_data"
    }
   ],
   "source": [
    "matplot(t(FieldGoalAttempts/Games), type=\"b\", pch= 15:18, col=c(1:4,6))\n",
    "legend(\"bottomleft\", inset=0.01, legend= Players, col=c(1:4,6), pch=15:18, horiz=F)    #pch =picture"
   ]
  },
  {
   "cell_type": "code",
   "execution_count": 56,
   "id": "coastal-consistency",
   "metadata": {},
   "outputs": [
    {
     "data": {
      "image/png": "[encoded data removed]",
      "text/plain": [
       "plot without title"
      ]
     },
     "metadata": {},
     "output_type": "display_data"
    }
   ],
   "source": [
    "matplot(t(FieldGoals/FieldGoalAttempts), type=\"b\", pch= 15:18, col=c(1:4,6))\n",
    "legend(\"bottomleft\", inset=0.01, legend= Players, col=c(1:4,6), pch=15:18, horiz=F) "
   ]
  },
  {
   "cell_type": "code",
   "execution_count": null,
   "id": "objective-monaco",
   "metadata": {},
   "outputs": [],
   "source": [
    "# Sub_sequence"
   ]
  },
  {
   "cell_type": "code",
   "execution_count": 57,
   "id": "typical-embassy",
   "metadata": {},
   "outputs": [
    {
     "data": {
      "text/html": [
       "<table>\n",
       "<thead><tr><th></th><th scope=col>2010</th><th scope=col>2011</th><th scope=col>2012</th><th scope=col>2013</th><th scope=col>2014</th></tr></thead>\n",
       "<tbody>\n",
       "\t<tr><th scope=row>KobeBryant</th><td>82</td><td>58</td><td>78</td><td> 6</td><td>35</td></tr>\n",
       "\t<tr><th scope=row>JoeJohnson</th><td>72</td><td>60</td><td>72</td><td>79</td><td>80</td></tr>\n",
       "\t<tr><th scope=row>LeBronJames</th><td>79</td><td>62</td><td>76</td><td>77</td><td>69</td></tr>\n",
       "</tbody>\n",
       "</table>\n"
      ],
      "text/latex": [
       "\\begin{tabular}{r|lllll}\n",
       "  & 2010 & 2011 & 2012 & 2013 & 2014\\\\\n",
       "\\hline\n",
       "\tKobeBryant & 82 & 58 & 78 &  6 & 35\\\\\n",
       "\tJoeJohnson & 72 & 60 & 72 & 79 & 80\\\\\n",
       "\tLeBronJames & 79 & 62 & 76 & 77 & 69\\\\\n",
       "\\end{tabular}\n"
      ],
      "text/markdown": [
       "\n",
       "| <!--/--> | 2010 | 2011 | 2012 | 2013 | 2014 |\n",
       "|---|---|---|---|---|---|\n",
       "| KobeBryant | 82 | 58 | 78 |  6 | 35 |\n",
       "| JoeJohnson | 72 | 60 | 72 | 79 | 80 |\n",
       "| LeBronJames | 79 | 62 | 76 | 77 | 69 |\n",
       "\n"
      ],
      "text/plain": [
       "            2010 2011 2012 2013 2014\n",
       "KobeBryant  82   58   78    6   35  \n",
       "JoeJohnson  72   60   72   79   80  \n",
       "LeBronJames 79   62   76   77   69  "
      ]
     },
     "metadata": {},
     "output_type": "display_data"
    }
   ],
   "source": [
    "Games[1:3, 6:10]"
   ]
  },
  {
   "cell_type": "code",
   "execution_count": 58,
   "id": "forced-partnership",
   "metadata": {},
   "outputs": [
    {
     "data": {
      "text/html": [
       "<table>\n",
       "<thead><tr><th></th><th scope=col>2008</th><th scope=col>2009</th></tr></thead>\n",
       "<tbody>\n",
       "\t<tr><th scope=row>KobeBryant</th><td>82</td><td>73</td></tr>\n",
       "\t<tr><th scope=row>JoeJohnson</th><td>79</td><td>76</td></tr>\n",
       "\t<tr><th scope=row>LeBronJames</th><td>81</td><td>76</td></tr>\n",
       "\t<tr><th scope=row>CarmeloAnthony</th><td>66</td><td>69</td></tr>\n",
       "\t<tr><th scope=row>DwightHoward</th><td>79</td><td>82</td></tr>\n",
       "\t<tr><th scope=row>ChrisBosh</th><td>77</td><td>70</td></tr>\n",
       "\t<tr><th scope=row>ChrisPaul</th><td>78</td><td>45</td></tr>\n",
       "\t<tr><th scope=row>KevinDurant</th><td>74</td><td>82</td></tr>\n",
       "\t<tr><th scope=row>DerrickRose</th><td>81</td><td>78</td></tr>\n",
       "\t<tr><th scope=row>DwayneWade</th><td>79</td><td>77</td></tr>\n",
       "</tbody>\n",
       "</table>\n"
      ],
      "text/latex": [
       "\\begin{tabular}{r|ll}\n",
       "  & 2008 & 2009\\\\\n",
       "\\hline\n",
       "\tKobeBryant & 82 & 73\\\\\n",
       "\tJoeJohnson & 79 & 76\\\\\n",
       "\tLeBronJames & 81 & 76\\\\\n",
       "\tCarmeloAnthony & 66 & 69\\\\\n",
       "\tDwightHoward & 79 & 82\\\\\n",
       "\tChrisBosh & 77 & 70\\\\\n",
       "\tChrisPaul & 78 & 45\\\\\n",
       "\tKevinDurant & 74 & 82\\\\\n",
       "\tDerrickRose & 81 & 78\\\\\n",
       "\tDwayneWade & 79 & 77\\\\\n",
       "\\end{tabular}\n"
      ],
      "text/markdown": [
       "\n",
       "| <!--/--> | 2008 | 2009 |\n",
       "|---|---|---|\n",
       "| KobeBryant | 82 | 73 |\n",
       "| JoeJohnson | 79 | 76 |\n",
       "| LeBronJames | 81 | 76 |\n",
       "| CarmeloAnthony | 66 | 69 |\n",
       "| DwightHoward | 79 | 82 |\n",
       "| ChrisBosh | 77 | 70 |\n",
       "| ChrisPaul | 78 | 45 |\n",
       "| KevinDurant | 74 | 82 |\n",
       "| DerrickRose | 81 | 78 |\n",
       "| DwayneWade | 79 | 77 |\n",
       "\n"
      ],
      "text/plain": [
       "               2008 2009\n",
       "KobeBryant     82   73  \n",
       "JoeJohnson     79   76  \n",
       "LeBronJames    81   76  \n",
       "CarmeloAnthony 66   69  \n",
       "DwightHoward   79   82  \n",
       "ChrisBosh      77   70  \n",
       "ChrisPaul      78   45  \n",
       "KevinDurant    74   82  \n",
       "DerrickRose    81   78  \n",
       "DwayneWade     79   77  "
      ]
     },
     "metadata": {},
     "output_type": "display_data"
    }
   ],
   "source": [
    "Games[, c(\"2008\",\"2009\")]"
   ]
  },
  {
   "cell_type": "code",
   "execution_count": 59,
   "id": "humanitarian-firewall",
   "metadata": {},
   "outputs": [
    {
     "data": {
      "text/html": [
       "<table>\n",
       "<thead><tr><th></th><th scope=col>2005</th><th scope=col>2006</th><th scope=col>2007</th><th scope=col>2008</th><th scope=col>2009</th><th scope=col>2010</th><th scope=col>2011</th><th scope=col>2012</th><th scope=col>2013</th><th scope=col>2014</th></tr></thead>\n",
       "<tbody>\n",
       "\t<tr><th scope=row>KobeBryant</th><td>80</td><td>77</td><td>82</td><td>82</td><td>73</td><td>82</td><td>58</td><td>78</td><td> 6</td><td>35</td></tr>\n",
       "\t<tr><th scope=row>DwayneWade</th><td>75</td><td>51</td><td>51</td><td>79</td><td>77</td><td>76</td><td>49</td><td>69</td><td>54</td><td>62</td></tr>\n",
       "</tbody>\n",
       "</table>\n"
      ],
      "text/latex": [
       "\\begin{tabular}{r|llllllllll}\n",
       "  & 2005 & 2006 & 2007 & 2008 & 2009 & 2010 & 2011 & 2012 & 2013 & 2014\\\\\n",
       "\\hline\n",
       "\tKobeBryant & 80 & 77 & 82 & 82 & 73 & 82 & 58 & 78 &  6 & 35\\\\\n",
       "\tDwayneWade & 75 & 51 & 51 & 79 & 77 & 76 & 49 & 69 & 54 & 62\\\\\n",
       "\\end{tabular}\n"
      ],
      "text/markdown": [
       "\n",
       "| <!--/--> | 2005 | 2006 | 2007 | 2008 | 2009 | 2010 | 2011 | 2012 | 2013 | 2014 |\n",
       "|---|---|---|---|---|---|---|---|---|---|---|\n",
       "| KobeBryant | 80 | 77 | 82 | 82 | 73 | 82 | 58 | 78 |  6 | 35 |\n",
       "| DwayneWade | 75 | 51 | 51 | 79 | 77 | 76 | 49 | 69 | 54 | 62 |\n",
       "\n"
      ],
      "text/plain": [
       "           2005 2006 2007 2008 2009 2010 2011 2012 2013 2014\n",
       "KobeBryant 80   77   82   82   73   82   58   78    6   35  \n",
       "DwayneWade 75   51   51   79   77   76   49   69   54   62  "
      ]
     },
     "metadata": {},
     "output_type": "display_data"
    }
   ],
   "source": [
    "Games[c(1,10),]"
   ]
  },
  {
   "cell_type": "code",
   "execution_count": 61,
   "id": "pharmaceutical-jersey",
   "metadata": {},
   "outputs": [
    {
     "data": {
      "text/html": [
       "<table>\n",
       "<thead><tr><th scope=col>2005</th><th scope=col>2006</th><th scope=col>2007</th><th scope=col>2008</th><th scope=col>2009</th><th scope=col>2010</th><th scope=col>2011</th><th scope=col>2012</th><th scope=col>2013</th><th scope=col>2014</th></tr></thead>\n",
       "<tbody>\n",
       "\t<tr><td>80</td><td>77</td><td>82</td><td>82</td><td>73</td><td>82</td><td>58</td><td>78</td><td>6 </td><td>35</td></tr>\n",
       "</tbody>\n",
       "</table>\n"
      ],
      "text/latex": [
       "\\begin{tabular}{llllllllll}\n",
       " 2005 & 2006 & 2007 & 2008 & 2009 & 2010 & 2011 & 2012 & 2013 & 2014\\\\\n",
       "\\hline\n",
       "\t 80 & 77 & 82 & 82 & 73 & 82 & 58 & 78 & 6  & 35\\\\\n",
       "\\end{tabular}\n"
      ],
      "text/markdown": [
       "\n",
       "| 2005 | 2006 | 2007 | 2008 | 2009 | 2010 | 2011 | 2012 | 2013 | 2014 |\n",
       "|---|---|---|---|---|---|---|---|---|---|\n",
       "| 80 | 77 | 82 | 82 | 73 | 82 | 58 | 78 | 6  | 35 |\n",
       "\n"
      ],
      "text/plain": [
       "     2005 2006 2007 2008 2009 2010 2011 2012 2013 2014\n",
       "[1,] 80   77   82   82   73   82   58   78   6    35  "
      ]
     },
     "metadata": {},
     "output_type": "display_data"
    }
   ],
   "source": [
    "t(Games[1,])"
   ]
  },
  {
   "cell_type": "code",
   "execution_count": 64,
   "id": "overall-opportunity",
   "metadata": {},
   "outputs": [
    {
     "data": {
      "text/html": [
       "FALSE"
      ],
      "text/latex": [
       "FALSE"
      ],
      "text/markdown": [
       "FALSE"
      ],
      "text/plain": [
       "[1] FALSE"
      ]
     },
     "metadata": {},
     "output_type": "display_data"
    }
   ],
   "source": [
    "is.matrix(Games[1,])"
   ]
  },
  {
   "cell_type": "code",
   "execution_count": 65,
   "id": "outstanding-customs",
   "metadata": {},
   "outputs": [
    {
     "data": {
      "text/html": [
       "TRUE"
      ],
      "text/latex": [
       "TRUE"
      ],
      "text/markdown": [
       "TRUE"
      ],
      "text/plain": [
       "[1] TRUE"
      ]
     },
     "metadata": {},
     "output_type": "display_data"
    }
   ],
   "source": [
    "is.vector(Games[1,])"
   ]
  },
  {
   "cell_type": "code",
   "execution_count": 66,
   "id": "boolean-flight",
   "metadata": {},
   "outputs": [
    {
     "data": {
      "text/html": [
       "80"
      ],
      "text/latex": [
       "80"
      ],
      "text/markdown": [
       "80"
      ],
      "text/plain": [
       "[1] 80"
      ]
     },
     "metadata": {},
     "output_type": "display_data"
    }
   ],
   "source": [
    "Games[1,1]"
   ]
  },
  {
   "cell_type": "code",
   "execution_count": 67,
   "id": "olympic-twelve",
   "metadata": {},
   "outputs": [
    {
     "data": {
      "text/html": [
       "FALSE"
      ],
      "text/latex": [
       "FALSE"
      ],
      "text/markdown": [
       "FALSE"
      ],
      "text/plain": [
       "[1] FALSE"
      ]
     },
     "metadata": {},
     "output_type": "display_data"
    }
   ],
   "source": [
    "is.matrix(Games[1,1])"
   ]
  },
  {
   "cell_type": "code",
   "execution_count": 71,
   "id": "ranging-custody",
   "metadata": {},
   "outputs": [
    {
     "data": {
      "text/html": [
       "<table>\n",
       "<thead><tr><th></th><th scope=col>2005</th><th scope=col>2006</th><th scope=col>2007</th><th scope=col>2008</th><th scope=col>2009</th><th scope=col>2010</th><th scope=col>2011</th><th scope=col>2012</th><th scope=col>2013</th><th scope=col>2014</th></tr></thead>\n",
       "<tbody>\n",
       "\t<tr><th scope=row>KobeBryant</th><td>80</td><td>77</td><td>82</td><td>82</td><td>73</td><td>82</td><td>58</td><td>78</td><td>6 </td><td>35</td></tr>\n",
       "</tbody>\n",
       "</table>\n"
      ],
      "text/latex": [
       "\\begin{tabular}{r|llllllllll}\n",
       "  & 2005 & 2006 & 2007 & 2008 & 2009 & 2010 & 2011 & 2012 & 2013 & 2014\\\\\n",
       "\\hline\n",
       "\tKobeBryant & 80 & 77 & 82 & 82 & 73 & 82 & 58 & 78 & 6  & 35\\\\\n",
       "\\end{tabular}\n"
      ],
      "text/markdown": [
       "\n",
       "| <!--/--> | 2005 | 2006 | 2007 | 2008 | 2009 | 2010 | 2011 | 2012 | 2013 | 2014 |\n",
       "|---|---|---|---|---|---|---|---|---|---|---|\n",
       "| KobeBryant | 80 | 77 | 82 | 82 | 73 | 82 | 58 | 78 | 6  | 35 |\n",
       "\n"
      ],
      "text/plain": [
       "           2005 2006 2007 2008 2009 2010 2011 2012 2013 2014\n",
       "KobeBryant 80   77   82   82   73   82   58   78   6    35  "
      ]
     },
     "metadata": {},
     "output_type": "display_data"
    }
   ],
   "source": [
    "Games[1,,drop=F]    #deop equal false then it return always same element, If matrix then return matrix "
   ]
  },
  {
   "cell_type": "code",
   "execution_count": 73,
   "id": "seven-fundamentals",
   "metadata": {},
   "outputs": [
    {
     "data": {
      "text/html": [
       "<dl class=dl-horizontal>\n",
       "\t<dt>2005</dt>\n",
       "\t\t<dd>80</dd>\n",
       "\t<dt>2006</dt>\n",
       "\t\t<dd>77</dd>\n",
       "\t<dt>2007</dt>\n",
       "\t\t<dd>82</dd>\n",
       "\t<dt>2008</dt>\n",
       "\t\t<dd>82</dd>\n",
       "\t<dt>2009</dt>\n",
       "\t\t<dd>73</dd>\n",
       "\t<dt>2010</dt>\n",
       "\t\t<dd>82</dd>\n",
       "\t<dt>2011</dt>\n",
       "\t\t<dd>58</dd>\n",
       "\t<dt>2012</dt>\n",
       "\t\t<dd>78</dd>\n",
       "\t<dt>2013</dt>\n",
       "\t\t<dd>6</dd>\n",
       "\t<dt>2014</dt>\n",
       "\t\t<dd>35</dd>\n",
       "</dl>\n"
      ],
      "text/latex": [
       "\\begin{description*}\n",
       "\\item[2005] 80\n",
       "\\item[2006] 77\n",
       "\\item[2007] 82\n",
       "\\item[2008] 82\n",
       "\\item[2009] 73\n",
       "\\item[2010] 82\n",
       "\\item[2011] 58\n",
       "\\item[2012] 78\n",
       "\\item[2013] 6\n",
       "\\item[2014] 35\n",
       "\\end{description*}\n"
      ],
      "text/markdown": [
       "2005\n",
       ":   802006\n",
       ":   772007\n",
       ":   822008\n",
       ":   822009\n",
       ":   732010\n",
       ":   822011\n",
       ":   582012\n",
       ":   782013\n",
       ":   62014\n",
       ":   35\n",
       "\n"
      ],
      "text/plain": [
       "2005 2006 2007 2008 2009 2010 2011 2012 2013 2014 \n",
       "  80   77   82   82   73   82   58   78    6   35 "
      ]
     },
     "metadata": {},
     "output_type": "display_data"
    }
   ],
   "source": [
    "Games[1,,drop=T]   #Here it return vector"
   ]
  },
  {
   "cell_type": "code",
   "execution_count": 80,
   "id": "mediterranean-disco",
   "metadata": {},
   "outputs": [
    {
     "data": {
      "image/png": "[encoded data removed]",
      "text/plain": [
       "plot without title"
      ]
     },
     "metadata": {},
     "output_type": "display_data"
    }
   ],
   "source": [
    "Data <- MinutesPlayed[1:3,]\n",
    "matplot(t(Data), type=\"b\", pch=15:18, col=c(1:4,6))\n",
    "legend(\"bottomleft\", inset=0.01, legend=Players[1:3], col=c(1:4,6), pch=15:18, horiz=F)"
   ]
  },
  {
   "cell_type": "code",
   "execution_count": 82,
   "id": "executive-consolidation",
   "metadata": {},
   "outputs": [
    {
     "data": {
      "image/png": "[encoded data removed]",
      "text/plain": [
       "plot without title"
      ]
     },
     "metadata": {},
     "output_type": "display_data"
    }
   ],
   "source": [
    "# just see kobeBrayant\n",
    "\n",
    "Data <- MinutesPlayed[1,, drop=F]\n",
    "matplot(t(Data), type=\"b\", pch=15:18, col=c(1:4,6))\n",
    "legend(\"bottomleft\", inset=0.01, legend=Players[1], col=c(1:4,6), pch=15:18, horiz=F)"
   ]
  },
  {
   "cell_type": "code",
   "execution_count": null,
   "id": "physical-customer",
   "metadata": {},
   "outputs": [],
   "source": [
    "# Function Creation"
   ]
  },
  {
   "cell_type": "code",
   "execution_count": 90,
   "id": "posted-williams",
   "metadata": {},
   "outputs": [],
   "source": [
    "myplot <- function(){\n",
    "    Data <- MinutesPlayed[2:3,, drop=F]\n",
    "    matplot(t(Data), type=\"b\", pch=15:18, col=c(1:4,6))\n",
    "    legend(\"bottomleft\", inset=0.01, legend=Players[1], col=c(1:4,6), pch=15:18, horiz=F)\n",
    "    \n",
    "}"
   ]
  },
  {
   "cell_type": "code",
   "execution_count": 91,
   "id": "hungry-decision",
   "metadata": {},
   "outputs": [
    {
     "data": {
      "image/png": "[encoded data removed]",
      "text/plain": [
       "plot without title"
      ]
     },
     "metadata": {},
     "output_type": "display_data"
    }
   ],
   "source": [
    "myplot()"
   ]
  },
  {
   "cell_type": "code",
   "execution_count": 92,
   "id": "younger-damages",
   "metadata": {},
   "outputs": [],
   "source": [
    "myplot <- function(rows){\n",
    "    Data <- MinutesPlayed[rows,, drop=F]\n",
    "    matplot(t(Data), type=\"b\", pch=15:18, col=c(1:4,6))\n",
    "    legend(\"bottomleft\", inset=0.01, legend=Players[rows], col=c(1:4,6), pch=15:18, horiz=F)\n",
    "    \n",
    "}"
   ]
  },
  {
   "cell_type": "code",
   "execution_count": 96,
   "id": "cardiovascular-community",
   "metadata": {},
   "outputs": [
    {
     "data": {
      "image/png": "[encoded data removed]",
      "text/plain": [
       "plot without title"
      ]
     },
     "metadata": {},
     "output_type": "display_data"
    }
   ],
   "source": [
    "myplot(5:1)"
   ]
  },
  {
   "cell_type": "code",
   "execution_count": 105,
   "id": "subtle-allah",
   "metadata": {},
   "outputs": [],
   "source": [
    "myplot <- function(data,rows){\n",
    "    Data <- data[rows,, drop=F]\n",
    "    matplot(t(Data), type=\"b\", pch=15:18, col=c(1:4,6))\n",
    "    legend(\"bottomleft\", inset=0.01, legend=Players[rows], col=c(1:4,6), pch=15:18, horiz=F)\n",
    "    \n",
    "}"
   ]
  },
  {
   "cell_type": "code",
   "execution_count": 108,
   "id": "requested-difficulty",
   "metadata": {},
   "outputs": [
    {
     "data": {
      "image/png": "[encoded data removed]",
      "text/plain": [
       "plot without title"
      ]
     },
     "metadata": {},
     "output_type": "display_data"
    }
   ],
   "source": [
    "myplot(Salary,1:6)"
   ]
  },
  {
   "cell_type": "code",
   "execution_count": 109,
   "id": "brutal-islam",
   "metadata": {},
   "outputs": [],
   "source": [
    "myplot <- function(data,rows=1:10){\n",
    "    Data <- data[rows,, drop=F]\n",
    "    matplot(t(Data), type=\"b\", pch=15:18, col=c(1:4,6))\n",
    "    legend(\"bottomleft\", inset=0.01, legend=Players[rows], col=c(1:4,6), pch=15:18, horiz=F)\n",
    "    \n",
    "}"
   ]
  },
  {
   "cell_type": "code",
   "execution_count": 115,
   "id": "incorrect-barrel",
   "metadata": {},
   "outputs": [
    {
     "data": {
      "image/png": "[encoded data removed]",
      "text/plain": [
       "plot without title"
      ]
     },
     "metadata": {},
     "output_type": "display_data"
    }
   ],
   "source": [
    "myplot(Salary/MinutesPlayed)\n",
    "#remove the injuried anamoly\n",
    "#Injury player could play more or less\n",
    "#how could deal with this?   so we can normalize in games matrix"
   ]
  },
  {
   "cell_type": "code",
   "execution_count": null,
   "id": "authentic-pricing",
   "metadata": {},
   "outputs": [],
   "source": []
  }
 ],
 "metadata": {
  "kernelspec": {
   "display_name": "R",
   "language": "R",
   "name": "ir"
  },
  "language_info": {
   "codemirror_mode": "r",
   "file_extension": ".r",
   "mimetype": "text/x-r-source",
   "name": "R",
   "pygments_lexer": "r",
   "version": "3.6.1"
  }
 },
 "nbformat": 4,
 "nbformat_minor": 5
}
