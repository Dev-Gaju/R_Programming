{
 "cells": [
  {
   "cell_type": "code",
   "execution_count": 3,
   "id": "varied-hundred",
   "metadata": {},
   "outputs": [
    {
     "data": {
      "text/html": [
       "'integer'"
      ],
      "text/latex": [
       "'integer'"
      ],
      "text/markdown": [
       "'integer'"
      ],
      "text/plain": [
       "[1] \"integer\""
      ]
     },
     "metadata": {},
     "output_type": "display_data"
    }
   ],
   "source": [
    "# Variable\n",
    "\n",
    "#Basically in R all are define as double for this case when we used integer we assugn L\n",
    "#If you not going to implement this any arithimetic then assign with L\n",
    "x<- 6L   #int\n",
    "typeof(x)"
   ]
  },
  {
   "cell_type": "code",
   "execution_count": 6,
   "id": "earned-translator",
   "metadata": {},
   "outputs": [
    {
     "data": {
      "text/html": [
       "'double'"
      ],
      "text/latex": [
       "'double'"
      ],
      "text/markdown": [
       "'double'"
      ],
      "text/plain": [
       "[1] \"double\""
      ]
     },
     "metadata": {},
     "output_type": "display_data"
    }
   ],
   "source": [
    "y<- 2.5\n",
    "typeof(y)"
   ]
  },
  {
   "cell_type": "code",
   "execution_count": 8,
   "id": "steady-frank",
   "metadata": {},
   "outputs": [
    {
     "data": {
      "text/html": [
       "'complex'"
      ],
      "text/latex": [
       "'complex'"
      ],
      "text/markdown": [
       "'complex'"
      ],
      "text/plain": [
       "[1] \"complex\""
      ]
     },
     "metadata": {},
     "output_type": "display_data"
    }
   ],
   "source": [
    "z <- 3+2i \n",
    "typeof(z)"
   ]
  },
  {
   "cell_type": "code",
   "execution_count": 15,
   "id": "greater-scott",
   "metadata": {},
   "outputs": [
    {
     "data": {
      "text/html": [
       "'logical'"
      ],
      "text/latex": [
       "'logical'"
      ],
      "text/markdown": [
       "'logical'"
      ],
      "text/plain": [
       "[1] \"logical\""
      ]
     },
     "metadata": {},
     "output_type": "display_data"
    }
   ],
   "source": [
    "#character design as python\n",
    "# but  logical have spome difference in R\n",
    "a1 <- T\n",
    "typeof(a1)"
   ]
  },
  {
   "cell_type": "code",
   "execution_count": 20,
   "id": "related-gambling",
   "metadata": {},
   "outputs": [
    {
     "data": {
      "text/html": [
       "1.4142135623731"
      ],
      "text/latex": [
       "1.4142135623731"
      ],
      "text/markdown": [
       "1.4142135623731"
      ],
      "text/plain": [
       "[1] 1.414214"
      ]
     },
     "metadata": {},
     "output_type": "display_data"
    }
   ],
   "source": [
    "a<-2\n",
    "b<-2\n",
    "answer<-sqrt(a)\n",
    "answer\n",
    "\n",
    "#for Concatenate just add paste in character variable"
   ]
  },
  {
   "cell_type": "code",
   "execution_count": 21,
   "id": "grateful-broadway",
   "metadata": {},
   "outputs": [
    {
     "data": {
      "text/html": [
       "TRUE"
      ],
      "text/latex": [
       "TRUE"
      ],
      "text/markdown": [
       "TRUE"
      ],
      "text/plain": [
       "[1] TRUE"
      ]
     },
     "metadata": {},
     "output_type": "display_data"
    }
   ],
   "source": [
    "4<5"
   ]
  },
  {
   "cell_type": "code",
   "execution_count": 25,
   "id": "sweet-throw",
   "metadata": {},
   "outputs": [
    {
     "data": {
      "text/html": [
       "FALSE"
      ],
      "text/latex": [
       "FALSE"
      ],
      "text/markdown": [
       "FALSE"
      ],
      "text/plain": [
       "[1] FALSE"
      ]
     },
     "metadata": {},
     "output_type": "display_data"
    }
   ],
   "source": [
    "4==3"
   ]
  },
  {
   "cell_type": "code",
   "execution_count": 33,
   "id": "smooth-mainstream",
   "metadata": {},
   "outputs": [
    {
     "data": {
      "text/html": [
       "FALSE"
      ],
      "text/latex": [
       "FALSE"
      ],
      "text/markdown": [
       "FALSE"
      ],
      "text/plain": [
       "[1] FALSE"
      ]
     },
     "metadata": {},
     "output_type": "display_data"
    }
   ],
   "source": [
    "isTRUE(a) #check any value true or false"
   ]
  },
  {
   "cell_type": "markdown",
   "id": "institutional-architect",
   "metadata": {},
   "source": [
    "# While Loop"
   ]
  },
  {
   "cell_type": "code",
   "execution_count": null,
   "id": "excessive-medicaid",
   "metadata": {},
   "outputs": [],
   "source": [
    "#logical, body of the loop\n",
    "# # while(TRUE){\n",
    "#     pr int(\"Hello R\")\n",
    "# }"
   ]
  },
  {
   "cell_type": "code",
   "execution_count": 2,
   "id": "terminal-exposure",
   "metadata": {},
   "outputs": [
    {
     "name": "stdout",
     "output_type": "stream",
     "text": [
      "[1] \"Hello R\"\n",
      "[1] \"Hello R\"\n",
      "[1] \"Hello R\"\n",
      "[1] \"Hello R\"\n",
      "[1] \"Hello R\"\n",
      "[1] \"Hello R\"\n",
      "[1] \"Hello R\"\n",
      "[1] \"Hello R\"\n",
      "[1] \"Hello R\"\n",
      "[1] \"Hello R\"\n",
      "[1] \"Hello R\"\n"
     ]
    }
   ],
   "source": [
    "counter <- 1\n",
    "while (counter < 12){\n",
    "    print(\"Hello R\")\n",
    "    counter<- counter + 1\n",
    "    }\n"
   ]
  },
  {
   "cell_type": "markdown",
   "id": "accessible-friend",
   "metadata": {},
   "source": [
    "# for LOOp"
   ]
  },
  {
   "cell_type": "code",
   "execution_count": 9,
   "id": "silent-response",
   "metadata": {},
   "outputs": [
    {
     "name": "stdout",
     "output_type": "stream",
     "text": [
      "[1] \"Hello R\"\n",
      "[1] \"Hello R\"\n",
      "[1] \"Hello R\"\n",
      "[1] \"Hello R\"\n"
     ]
    }
   ],
   "source": [
    "for(i in 2:5){            # here instead declare range just : to count 1 to 5\n",
    "    print(\"Hello R\")\n",
    "    i <- i+1\n",
    "}"
   ]
  },
  {
   "cell_type": "code",
   "execution_count": 10,
   "id": "aquatic-involvement",
   "metadata": {},
   "outputs": [
    {
     "data": {
      "text/html": [
       "<ol class=list-inline>\n",
       "\t<li>1</li>\n",
       "\t<li>2</li>\n",
       "\t<li>3</li>\n",
       "\t<li>4</li>\n",
       "\t<li>5</li>\n",
       "</ol>\n"
      ],
      "text/latex": [
       "\\begin{enumerate*}\n",
       "\\item 1\n",
       "\\item 2\n",
       "\\item 3\n",
       "\\item 4\n",
       "\\item 5\n",
       "\\end{enumerate*}\n"
      ],
      "text/markdown": [
       "1. 1\n",
       "2. 2\n",
       "3. 3\n",
       "4. 4\n",
       "5. 5\n",
       "\n",
       "\n"
      ],
      "text/plain": [
       "[1] 1 2 3 4 5"
      ]
     },
     "metadata": {},
     "output_type": "display_data"
    }
   ],
   "source": [
    "# sequence or array in other programe \n",
    "# more convenient than while loop\n",
    "\n",
    "1:5  # R is all about vector and vectorze operation\n",
    "   "
   ]
  },
  {
   "cell_type": "markdown",
   "id": "going-virgin",
   "metadata": {},
   "source": [
    "<!-- IF Statement -->"
   ]
  },
  {
   "cell_type": "markdown",
   "id": "operational-poultry",
   "metadata": {},
   "source": [
    "# Statement"
   ]
  },
  {
   "cell_type": "code",
   "execution_count": null,
   "id": "wicked-fellow",
   "metadata": {},
   "outputs": [],
   "source": [
    "# Remove any variable just type rm"
   ]
  },
  {
   "cell_type": "code",
   "execution_count": 19,
   "id": "emerging-genius",
   "metadata": {},
   "outputs": [
    {
     "name": "stdout",
     "output_type": "stream",
     "text": [
      "[1] -0.5454665 -1.2112469  1.3704242 -0.9893689 -0.7763029\n"
     ]
    },
    {
     "name": "stderr",
     "output_type": "stream",
     "text": [
      "Warning message in if (x < 1) {:\n",
      "\"the condition has length > 1 and only the first element will be used\""
     ]
    },
    {
     "name": "stdout",
     "output_type": "stream",
     "text": [
      "[1] \"greater\"\n"
     ]
    }
   ],
   "source": [
    "x <- rnorm(5)\n",
    "print(x)\n",
    "if (x<1){\n",
    "    print(\"greater\")\n",
    "}\n"
   ]
  },
  {
   "cell_type": "code",
   "execution_count": 36,
   "id": "chicken-celebration",
   "metadata": {},
   "outputs": [
    {
     "name": "stdout",
     "output_type": "stream",
     "text": [
      "[1] \"x is greater than 1\"\n"
     ]
    }
   ],
   "source": [
    "# chcek statement to 1\n",
    "\n",
    "# rm(b)\n",
    "x <- rnorm(1)\n",
    "if (x>1){\n",
    "    print(\"x is greater than 1\")\n",
    "}else if(x <= -1){\n",
    "    print(\"x is qaual or not to 1 \")\n",
    "}else{\n",
    "     print(\"x is less than 1\")\n",
    "}"
   ]
  },
  {
   "cell_type": "code",
   "execution_count": null,
   "id": "wireless-neighborhood",
   "metadata": {},
   "outputs": [],
   "source": []
  },
  {
   "cell_type": "code",
   "execution_count": null,
   "id": "prime-arizona",
   "metadata": {},
   "outputs": [],
   "source": []
  }
 ],
 "metadata": {
  "kernelspec": {
   "display_name": "R",
   "language": "R",
   "name": "ir"
  },
  "language_info": {
   "codemirror_mode": "r",
   "file_extension": ".r",
   "mimetype": "text/x-r-source",
   "name": "R",
   "pygments_lexer": "r",
   "version": "3.6.1"
  }
 },
 "nbformat": 4,
 "nbformat_minor": 5
}
